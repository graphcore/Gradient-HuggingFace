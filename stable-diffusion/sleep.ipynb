{
 "cells": [
  {
   "cell_type": "code",
   "execution_count": null,
   "metadata": {},
   "outputs": [],
   "source": [
    "import signal\n",
    "\n",
    "def signal_handler(signum, frame):\n",
    "    raise Exception(\"Execution timed out.\")\n",
    "\n",
    "def set_cell_timeout(timeout):\n",
    "    signal.signal(signal.SIGALRM, signal_handler)\n",
    "    signal.alarm(timeout)"
   ]
  },
  {
   "cell_type": "code",
   "execution_count": null,
   "metadata": {},
   "outputs": [],
   "source": [
    "!pip install func-timeout\n",
    "from func_timeout import func_timeout"
   ]
  },
  {
   "cell_type": "code",
   "execution_count": null,
   "metadata": {},
   "outputs": [],
   "source": [
    "#set_cell_timeout(5)\n",
    "import time \n",
    "\n",
    "def fun():\n",
    "    print('one')\n",
    "    time.sleep(5)\n",
    "    print('two')\n",
    "    time.sleep(5)\n",
    "    print('three')\n",
    "\n",
    "func_timeout(5, fun)"
   ]
  }
 ],
 "metadata": {
  "kernelspec": {
   "display_name": "3.1.0+1205_poptorch",
   "language": "python",
   "name": "python3"
  },
  "language_info": {
   "codemirror_mode": {
    "name": "ipython",
    "version": 3
   },
   "file_extension": ".py",
   "mimetype": "text/x-python",
   "name": "python",
   "nbconvert_exporter": "python",
   "pygments_lexer": "ipython3",
   "version": "3.8.10"
  },
  "orig_nbformat": 4
 },
 "nbformat": 4,
 "nbformat_minor": 2
}
