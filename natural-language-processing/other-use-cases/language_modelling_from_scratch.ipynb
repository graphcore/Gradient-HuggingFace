{
 "cells": [
  {
   "cell_type": "markdown",
   "metadata": {
    "id": "a3KD3WXU3l-O"
   },
   "source": [
    "# Language Modelling on IPUs - Training"
   ]
  },
  {
   "cell_type": "markdown",
   "metadata": {
    "id": "JAscNNUD3l-P"
   },
   "source": [
    "In this notebook, we'll see how to train a [🤗 Transformers](https://github.com/huggingface/transformers) model on a language modelling task. We will cover two types of language modelling tasks:\n",
    "\n",
    "- Causal language modelling: The model has to predict the next token in the sentence (so the labels are the same as the inputs shifted to the right). To make sure the model does not cheat, it gets an attention mask that will prevent it from accessing the tokens after token `i` when trying to predict token `i+1` in the sentence.\n",
    "\n",
    "![Widget inference representing the causal language modelling task](images/causal_language_modeling.png)\n",
    "\n",
    "- Masked language modelling: The model has to predict some tokens that are masked in the input. It still has access to the whole sentence, so it can use the tokens before and after the tokens that have been masked to predict their value.\n",
    "\n",
    "![Widget inference representing the masked language modelling task](images/masked_language_modeling.png)\n",
    "\n",
    "We will see how to easily load and preprocess the dataset for each of these tasks, and how to use the `IPUTrainer` API to train a model on it.\n",
    "\n",
    "This notebooks assumes you have trained a tokenizer on the corpus you are using (see the [How to train a tokenizer](https://github.com/huggingface/notebooks/blob/master/examples/tokenizer_training.ipynb) notebook for details)."
   ]
  },
  {
   "cell_type": "markdown",
   "metadata": {},
   "source": [
    "|  Domain | Tasks | Model | Datasets | Workflow |   Number of IPUs   | Execution time |\n",
    "|---------|-------|-------|----------|----------|--------------|--------------|\n",
    "| Natural language processing | Causal language modelling and Masked language modelling | gpt2 and bert-base-cased | Wikitext 2 | Training | 4 or 16 | 28 min on POD4, 15 min on POD16 |"
   ]
  },
  {
   "cell_type": "markdown",
   "metadata": {},
   "source": [
    "[![Join our Slack Community](https://img.shields.io/badge/Slack-Join%20Graphcore's%20Community-blue?style=flat-square&logo=slack)](https://www.graphcore.ai/join-community)\n"
   ]
  },
  {
   "cell_type": "markdown",
   "metadata": {},
   "source": [
    "In order to improve usability and support for future users, Graphcore would like to collect information about the\n",
    "applications and code being run in this notebook. The following information will be anonymised before being sent to Graphcore:\n",
    "\n",
    "- User progression through the notebook\n",
    "- Notebook details: number of cells, code being run and the output of the cells\n",
    "- Environment details\n",
    "\n",
    "You can disable logging at any time by running `%unload_ext graphcore_cloud_tools.notebook_logging.gc_logger` from any cell."
   ]
  },
  {
   "cell_type": "markdown",
   "metadata": {},
   "source": [
    "## Dependencies and configuration"
   ]
  },
  {
   "cell_type": "markdown",
   "metadata": {},
   "source": [
    "Install the dependencies for this notebook."
   ]
  },
  {
   "cell_type": "code",
   "execution_count": 1,
   "metadata": {},
   "outputs": [
    {
     "name": "stdout",
     "output_type": "stream",
     "text": [
      "Looking in indexes: https://pypi.org/simple, https://download.pytorch.org/whl/cpu:\n",
      "Requirement already satisfied: optimum-graphcore==0.7 in /opt/pytorch/lib/python3.8/site-packages (0.7.0)\n",
      "Requirement already satisfied: typeguard in /opt/pytorch/lib/python3.8/site-packages (from optimum-graphcore==0.7) (4.1.1)\n",
      "Requirement already satisfied: tokenizers in /opt/pytorch/lib/python3.8/site-packages (from optimum-graphcore==0.7) (0.13.3)\n",
      "Requirement already satisfied: diffusers[torch]==0.12.1 in /opt/pytorch/lib/python3.8/site-packages (from optimum-graphcore==0.7) (0.12.1)\n",
      "Requirement already satisfied: datasets in /opt/pytorch/lib/python3.8/site-packages (from optimum-graphcore==0.7) (2.14.4)\n",
      "Requirement already satisfied: sentencepiece in /opt/pytorch/lib/python3.8/site-packages (from optimum-graphcore==0.7) (0.1.99)\n",
      "Requirement already satisfied: optimum==1.6.1 in /opt/pytorch/lib/python3.8/site-packages (from optimum-graphcore==0.7) (1.6.1)\n",
      "Requirement already satisfied: scipy in /opt/pytorch/lib/python3.8/site-packages (from optimum-graphcore==0.7) (1.10.1)\n",
      "Requirement already satisfied: transformers==4.29.2 in /opt/pytorch/lib/python3.8/site-packages (from optimum-graphcore==0.7) (4.29.2)\n",
      "Requirement already satisfied: pillow in /opt/pytorch/lib/python3.8/site-packages (from optimum-graphcore==0.7) (10.0.0)\n",
      "Requirement already satisfied: regex!=2019.12.17 in /opt/pytorch/lib/python3.8/site-packages (from diffusers[torch]==0.12.1->optimum-graphcore==0.7) (2023.8.8)\n",
      "Requirement already satisfied: requests in /opt/pytorch/lib/python3.8/site-packages (from diffusers[torch]==0.12.1->optimum-graphcore==0.7) (2.31.0)\n",
      "Requirement already satisfied: huggingface-hub>=0.10.0 in /opt/pytorch/lib/python3.8/site-packages (from diffusers[torch]==0.12.1->optimum-graphcore==0.7) (0.16.4)\n",
      "Requirement already satisfied: filelock in /opt/pytorch/lib/python3.8/site-packages (from diffusers[torch]==0.12.1->optimum-graphcore==0.7) (3.12.2)\n",
      "Requirement already satisfied: numpy in /opt/pytorch/lib/python3.8/site-packages (from diffusers[torch]==0.12.1->optimum-graphcore==0.7) (1.21.6)\n",
      "Requirement already satisfied: importlib-metadata in /opt/pytorch/lib/python3.8/site-packages (from diffusers[torch]==0.12.1->optimum-graphcore==0.7) (6.7.0)\n",
      "Requirement already satisfied: accelerate>=0.11.0 in /opt/pytorch/lib/python3.8/site-packages (from diffusers[torch]==0.12.1->optimum-graphcore==0.7) (0.21.0)\n",
      "Requirement already satisfied: torch>=1.4 in /opt/pytorch/lib/python3.8/site-packages (from diffusers[torch]==0.12.1->optimum-graphcore==0.7) (2.0.1+cpu)\n",
      "Requirement already satisfied: coloredlogs in /opt/pytorch/lib/python3.8/site-packages (from optimum==1.6.1->optimum-graphcore==0.7) (15.0.1)\n",
      "Requirement already satisfied: packaging in /opt/pytorch/lib/python3.8/site-packages (from optimum==1.6.1->optimum-graphcore==0.7) (23.1)\n",
      "Requirement already satisfied: sympy in /opt/pytorch/lib/python3.8/site-packages (from optimum==1.6.1->optimum-graphcore==0.7) (1.12)\n",
      "Requirement already satisfied: pyyaml>=5.1 in /opt/pytorch/lib/python3.8/site-packages (from transformers==4.29.2->optimum-graphcore==0.7) (5.4.1)\n",
      "Requirement already satisfied: tqdm>=4.27 in /opt/pytorch/lib/python3.8/site-packages (from transformers==4.29.2->optimum-graphcore==0.7) (4.65.0)\n",
      "Requirement already satisfied: fsspec[http]>=2021.11.1 in /opt/pytorch/lib/python3.8/site-packages (from datasets->optimum-graphcore==0.7) (2023.6.0)\n",
      "Requirement already satisfied: aiohttp in /opt/pytorch/lib/python3.8/site-packages (from datasets->optimum-graphcore==0.7) (3.8.5)\n",
      "Requirement already satisfied: xxhash in /opt/pytorch/lib/python3.8/site-packages (from datasets->optimum-graphcore==0.7) (3.3.0)\n",
      "Requirement already satisfied: pandas in /opt/pytorch/lib/python3.8/site-packages (from datasets->optimum-graphcore==0.7) (2.0.3)\n",
      "Requirement already satisfied: multiprocess in /opt/pytorch/lib/python3.8/site-packages (from datasets->optimum-graphcore==0.7) (0.70.15)\n",
      "Requirement already satisfied: dill<0.3.8,>=0.3.0 in /opt/pytorch/lib/python3.8/site-packages (from datasets->optimum-graphcore==0.7) (0.3.7)\n",
      "Requirement already satisfied: pyarrow>=8.0.0 in /opt/pytorch/lib/python3.8/site-packages (from datasets->optimum-graphcore==0.7) (12.0.1)\n",
      "Requirement already satisfied: typing-extensions>=4.7.0 in /opt/pytorch/lib/python3.8/site-packages (from typeguard->optimum-graphcore==0.7) (4.7.1)\n",
      "Requirement already satisfied: psutil in /opt/pytorch/lib/python3.8/site-packages (from accelerate>=0.11.0->diffusers[torch]==0.12.1->optimum-graphcore==0.7) (5.9.5)\n",
      "Requirement already satisfied: async-timeout<5.0,>=4.0.0a3 in /opt/pytorch/lib/python3.8/site-packages (from aiohttp->datasets->optimum-graphcore==0.7) (4.0.3)\n",
      "Requirement already satisfied: multidict<7.0,>=4.5 in /opt/pytorch/lib/python3.8/site-packages (from aiohttp->datasets->optimum-graphcore==0.7) (6.0.4)\n",
      "Requirement already satisfied: yarl<2.0,>=1.0 in /opt/pytorch/lib/python3.8/site-packages (from aiohttp->datasets->optimum-graphcore==0.7) (1.9.2)\n",
      "Requirement already satisfied: aiosignal>=1.1.2 in /opt/pytorch/lib/python3.8/site-packages (from aiohttp->datasets->optimum-graphcore==0.7) (1.3.1)\n",
      "Requirement already satisfied: charset-normalizer<4.0,>=2.0 in /opt/pytorch/lib/python3.8/site-packages (from aiohttp->datasets->optimum-graphcore==0.7) (3.1.0)\n",
      "Requirement already satisfied: attrs>=17.3.0 in /opt/pytorch/lib/python3.8/site-packages (from aiohttp->datasets->optimum-graphcore==0.7) (23.1.0)\n",
      "Requirement already satisfied: frozenlist>=1.1.1 in /opt/pytorch/lib/python3.8/site-packages (from aiohttp->datasets->optimum-graphcore==0.7) (1.4.0)\n",
      "Requirement already satisfied: zipp>=0.5 in /opt/pytorch/lib/python3.8/site-packages (from importlib-metadata->diffusers[torch]==0.12.1->optimum-graphcore==0.7) (3.15.0)\n",
      "Requirement already satisfied: urllib3<3,>=1.21.1 in /opt/pytorch/lib/python3.8/site-packages (from requests->diffusers[torch]==0.12.1->optimum-graphcore==0.7) (1.26.16)\n",
      "Requirement already satisfied: certifi>=2017.4.17 in /opt/pytorch/lib/python3.8/site-packages (from requests->diffusers[torch]==0.12.1->optimum-graphcore==0.7) (2023.5.7)\n",
      "Requirement already satisfied: idna<4,>=2.5 in /opt/pytorch/lib/python3.8/site-packages (from requests->diffusers[torch]==0.12.1->optimum-graphcore==0.7) (3.4)\n",
      "Requirement already satisfied: jinja2 in /opt/pytorch/lib/python3.8/site-packages (from torch>=1.4->diffusers[torch]==0.12.1->optimum-graphcore==0.7) (3.1.2)\n",
      "Requirement already satisfied: networkx in /opt/pytorch/lib/python3.8/site-packages (from torch>=1.4->diffusers[torch]==0.12.1->optimum-graphcore==0.7) (3.1)\n",
      "Requirement already satisfied: protobuf<=3.20.2 in /opt/pytorch/lib/python3.8/site-packages (from transformers==4.29.2->optimum-graphcore==0.7) (3.20.2)\n",
      "Requirement already satisfied: humanfriendly>=9.1 in /opt/pytorch/lib/python3.8/site-packages (from coloredlogs->optimum==1.6.1->optimum-graphcore==0.7) (10.0)\n",
      "Requirement already satisfied: tzdata>=2022.1 in /opt/pytorch/lib/python3.8/site-packages (from pandas->datasets->optimum-graphcore==0.7) (2023.3)\n",
      "Requirement already satisfied: python-dateutil>=2.8.2 in /opt/pytorch/lib/python3.8/site-packages (from pandas->datasets->optimum-graphcore==0.7) (2.8.2)\n",
      "Requirement already satisfied: pytz>=2020.1 in /opt/pytorch/lib/python3.8/site-packages (from pandas->datasets->optimum-graphcore==0.7) (2023.3)\n",
      "Requirement already satisfied: mpmath>=0.19 in /opt/pytorch/lib/python3.8/site-packages (from sympy->optimum==1.6.1->optimum-graphcore==0.7) (1.3.0)\n",
      "Requirement already satisfied: six>=1.5 in /opt/pytorch/lib/python3.8/site-packages (from python-dateutil>=2.8.2->pandas->datasets->optimum-graphcore==0.7) (1.16.0)\n",
      "Requirement already satisfied: MarkupSafe>=2.0 in /opt/pytorch/lib/python3.8/site-packages (from jinja2->torch>=1.4->diffusers[torch]==0.12.1->optimum-graphcore==0.7) (2.1.3)\n",
      "Note: you may need to restart the kernel to use updated packages.\n",
      "Looking in indexes: https://pypi.org/simple, https://download.pytorch.org/whl/cpu:\n",
      "Collecting graphcore-cloud-tools[logger]@ git+https://github.com/graphcore/graphcore-cloud-tools\n",
      "  Cloning https://github.com/graphcore/graphcore-cloud-tools to /tmp/pip-install-u_sdu62u/graphcore-cloud-tools_2a9128a5b2cd40c5850d2b1ee56a3e18\n",
      "  Running command git clone --filter=blob:none -q https://github.com/graphcore/graphcore-cloud-tools /tmp/pip-install-u_sdu62u/graphcore-cloud-tools_2a9128a5b2cd40c5850d2b1ee56a3e18\n",
      "  Resolved https://github.com/graphcore/graphcore-cloud-tools to commit bb3d3d26b6e11aeccc03d1917c98eaf2cf1ede6e\n",
      "  Preparing metadata (setup.py) ... \u001b[?25ldone\n",
      "\u001b[?25hRequirement already satisfied: cppimport>=22.07.17 in /opt/pytorch/lib/python3.8/site-packages (from graphcore-cloud-tools[logger]@ git+https://github.com/graphcore/graphcore-cloud-tools) (22.8.2)\n",
      "Requirement already satisfied: filelock>=3.9.0 in /opt/pytorch/lib/python3.8/site-packages (from graphcore-cloud-tools[logger]@ git+https://github.com/graphcore/graphcore-cloud-tools) (3.12.2)\n",
      "Requirement already satisfied: psutil>=5.7.0 in /opt/pytorch/lib/python3.8/site-packages (from graphcore-cloud-tools[logger]@ git+https://github.com/graphcore/graphcore-cloud-tools) (5.9.5)\n",
      "Requirement already satisfied: pyyaml>=5.4.1 in /opt/pytorch/lib/python3.8/site-packages (from graphcore-cloud-tools[logger]@ git+https://github.com/graphcore/graphcore-cloud-tools) (5.4.1)\n",
      "Requirement already satisfied: simple-parsing==0.0.19.post1 in /opt/pytorch/lib/python3.8/site-packages (from graphcore-cloud-tools[logger]@ git+https://github.com/graphcore/graphcore-cloud-tools) (0.0.19.post1)\n",
      "Requirement already satisfied: awscli>=1.24.10 in /opt/pytorch/lib/python3.8/site-packages (from graphcore-cloud-tools[logger]@ git+https://github.com/graphcore/graphcore-cloud-tools) (1.27.165)\n",
      "Requirement already satisfied: boto3>=1.26 in /opt/pytorch/lib/python3.8/site-packages (from graphcore-cloud-tools[logger]@ git+https://github.com/graphcore/graphcore-cloud-tools) (1.26.165)\n",
      "Requirement already satisfied: ipynbname>=2021.3.2 in /opt/pytorch/lib/python3.8/site-packages (from graphcore-cloud-tools[logger]@ git+https://github.com/graphcore/graphcore-cloud-tools) (2023.2.0.0)\n",
      "Requirement already satisfied: nbformat>=5.7.3 in /opt/pytorch/lib/python3.8/site-packages (from graphcore-cloud-tools[logger]@ git+https://github.com/graphcore/graphcore-cloud-tools) (5.9.0)\n",
      "Requirement already satisfied: typing-inspect in /opt/pytorch/lib/python3.8/site-packages (from simple-parsing==0.0.19.post1->graphcore-cloud-tools[logger]@ git+https://github.com/graphcore/graphcore-cloud-tools) (0.9.0)\n",
      "Requirement already satisfied: colorama<0.4.5,>=0.2.5 in /opt/pytorch/lib/python3.8/site-packages (from awscli>=1.24.10->graphcore-cloud-tools[logger]@ git+https://github.com/graphcore/graphcore-cloud-tools) (0.4.4)\n",
      "Requirement already satisfied: rsa<4.8,>=3.1.2 in /opt/pytorch/lib/python3.8/site-packages (from awscli>=1.24.10->graphcore-cloud-tools[logger]@ git+https://github.com/graphcore/graphcore-cloud-tools) (4.7.2)\n",
      "Requirement already satisfied: docutils<0.17,>=0.10 in /opt/pytorch/lib/python3.8/site-packages (from awscli>=1.24.10->graphcore-cloud-tools[logger]@ git+https://github.com/graphcore/graphcore-cloud-tools) (0.16)\n",
      "Requirement already satisfied: s3transfer<0.7.0,>=0.6.0 in /opt/pytorch/lib/python3.8/site-packages (from awscli>=1.24.10->graphcore-cloud-tools[logger]@ git+https://github.com/graphcore/graphcore-cloud-tools) (0.6.1)\n",
      "Requirement already satisfied: botocore==1.29.165 in /opt/pytorch/lib/python3.8/site-packages (from awscli>=1.24.10->graphcore-cloud-tools[logger]@ git+https://github.com/graphcore/graphcore-cloud-tools) (1.29.165)\n",
      "Requirement already satisfied: urllib3<1.27,>=1.25.4 in /opt/pytorch/lib/python3.8/site-packages (from botocore==1.29.165->awscli>=1.24.10->graphcore-cloud-tools[logger]@ git+https://github.com/graphcore/graphcore-cloud-tools) (1.26.16)\n",
      "Requirement already satisfied: jmespath<2.0.0,>=0.7.1 in /opt/pytorch/lib/python3.8/site-packages (from botocore==1.29.165->awscli>=1.24.10->graphcore-cloud-tools[logger]@ git+https://github.com/graphcore/graphcore-cloud-tools) (1.0.1)\n",
      "Requirement already satisfied: python-dateutil<3.0.0,>=2.1 in /opt/pytorch/lib/python3.8/site-packages (from botocore==1.29.165->awscli>=1.24.10->graphcore-cloud-tools[logger]@ git+https://github.com/graphcore/graphcore-cloud-tools) (2.8.2)\n",
      "Requirement already satisfied: mako in /opt/pytorch/lib/python3.8/site-packages (from cppimport>=22.07.17->graphcore-cloud-tools[logger]@ git+https://github.com/graphcore/graphcore-cloud-tools) (1.2.4)\n",
      "Requirement already satisfied: pybind11 in /opt/pytorch/lib/python3.8/site-packages (from cppimport>=22.07.17->graphcore-cloud-tools[logger]@ git+https://github.com/graphcore/graphcore-cloud-tools) (2.11.1)\n",
      "Requirement already satisfied: ipykernel in /opt/pytorch/lib/python3.8/site-packages (from ipynbname>=2021.3.2->graphcore-cloud-tools[logger]@ git+https://github.com/graphcore/graphcore-cloud-tools) (6.24.0)\n",
      "Requirement already satisfied: jupyter-core in /opt/pytorch/lib/python3.8/site-packages (from nbformat>=5.7.3->graphcore-cloud-tools[logger]@ git+https://github.com/graphcore/graphcore-cloud-tools) (5.2.0)\n",
      "Requirement already satisfied: jsonschema>=2.6 in /opt/pytorch/lib/python3.8/site-packages (from nbformat>=5.7.3->graphcore-cloud-tools[logger]@ git+https://github.com/graphcore/graphcore-cloud-tools) (4.17.3)\n",
      "Requirement already satisfied: traitlets>=5.1 in /opt/pytorch/lib/python3.8/site-packages (from nbformat>=5.7.3->graphcore-cloud-tools[logger]@ git+https://github.com/graphcore/graphcore-cloud-tools) (5.9.0)\n",
      "Requirement already satisfied: fastjsonschema in /opt/pytorch/lib/python3.8/site-packages (from nbformat>=5.7.3->graphcore-cloud-tools[logger]@ git+https://github.com/graphcore/graphcore-cloud-tools) (2.17.1)\n",
      "Requirement already satisfied: pyrsistent!=0.17.0,!=0.17.1,!=0.17.2,>=0.14.0 in /opt/pytorch/lib/python3.8/site-packages (from jsonschema>=2.6->nbformat>=5.7.3->graphcore-cloud-tools[logger]@ git+https://github.com/graphcore/graphcore-cloud-tools) (0.19.3)\n",
      "Requirement already satisfied: pkgutil-resolve-name>=1.3.10 in /opt/pytorch/lib/python3.8/site-packages (from jsonschema>=2.6->nbformat>=5.7.3->graphcore-cloud-tools[logger]@ git+https://github.com/graphcore/graphcore-cloud-tools) (1.3.10)\n",
      "Requirement already satisfied: importlib-resources>=1.4.0 in /opt/pytorch/lib/python3.8/site-packages (from jsonschema>=2.6->nbformat>=5.7.3->graphcore-cloud-tools[logger]@ git+https://github.com/graphcore/graphcore-cloud-tools) (5.12.0)\n",
      "Requirement already satisfied: attrs>=17.4.0 in /opt/pytorch/lib/python3.8/site-packages (from jsonschema>=2.6->nbformat>=5.7.3->graphcore-cloud-tools[logger]@ git+https://github.com/graphcore/graphcore-cloud-tools) (23.1.0)\n",
      "Requirement already satisfied: pyasn1>=0.1.3 in /opt/pytorch/lib/python3.8/site-packages (from rsa<4.8,>=3.1.2->awscli>=1.24.10->graphcore-cloud-tools[logger]@ git+https://github.com/graphcore/graphcore-cloud-tools) (0.5.0)\n",
      "Requirement already satisfied: tornado>=6.1 in /opt/pytorch/lib/python3.8/site-packages (from ipykernel->ipynbname>=2021.3.2->graphcore-cloud-tools[logger]@ git+https://github.com/graphcore/graphcore-cloud-tools) (6.3.2)\n",
      "Requirement already satisfied: packaging in /opt/pytorch/lib/python3.8/site-packages (from ipykernel->ipynbname>=2021.3.2->graphcore-cloud-tools[logger]@ git+https://github.com/graphcore/graphcore-cloud-tools) (23.1)\n",
      "Requirement already satisfied: comm>=0.1.1 in /opt/pytorch/lib/python3.8/site-packages (from ipykernel->ipynbname>=2021.3.2->graphcore-cloud-tools[logger]@ git+https://github.com/graphcore/graphcore-cloud-tools) (0.1.3)\n",
      "Requirement already satisfied: matplotlib-inline>=0.1 in /opt/pytorch/lib/python3.8/site-packages (from ipykernel->ipynbname>=2021.3.2->graphcore-cloud-tools[logger]@ git+https://github.com/graphcore/graphcore-cloud-tools) (0.1.6)\n",
      "Requirement already satisfied: jupyter-client>=6.1.12 in /opt/pytorch/lib/python3.8/site-packages (from ipykernel->ipynbname>=2021.3.2->graphcore-cloud-tools[logger]@ git+https://github.com/graphcore/graphcore-cloud-tools) (8.3.0)\n",
      "Requirement already satisfied: pyzmq>=20 in /opt/pytorch/lib/python3.8/site-packages (from ipykernel->ipynbname>=2021.3.2->graphcore-cloud-tools[logger]@ git+https://github.com/graphcore/graphcore-cloud-tools) (25.1.0)\n",
      "Requirement already satisfied: debugpy>=1.6.5 in /opt/pytorch/lib/python3.8/site-packages (from ipykernel->ipynbname>=2021.3.2->graphcore-cloud-tools[logger]@ git+https://github.com/graphcore/graphcore-cloud-tools) (1.6.7)\n",
      "Requirement already satisfied: nest-asyncio in /opt/pytorch/lib/python3.8/site-packages (from ipykernel->ipynbname>=2021.3.2->graphcore-cloud-tools[logger]@ git+https://github.com/graphcore/graphcore-cloud-tools) (1.5.6)\n",
      "Requirement already satisfied: ipython>=7.23.1 in /opt/pytorch/lib/python3.8/site-packages (from ipykernel->ipynbname>=2021.3.2->graphcore-cloud-tools[logger]@ git+https://github.com/graphcore/graphcore-cloud-tools) (8.12.1)\n",
      "Requirement already satisfied: platformdirs>=2.5 in /opt/pytorch/lib/python3.8/site-packages (from jupyter-core->nbformat>=5.7.3->graphcore-cloud-tools[logger]@ git+https://github.com/graphcore/graphcore-cloud-tools) (3.8.0)\n",
      "Requirement already satisfied: MarkupSafe>=0.9.2 in /opt/pytorch/lib/python3.8/site-packages (from mako->cppimport>=22.07.17->graphcore-cloud-tools[logger]@ git+https://github.com/graphcore/graphcore-cloud-tools) (2.1.3)\n",
      "Requirement already satisfied: typing-extensions>=3.7.4 in /opt/pytorch/lib/python3.8/site-packages (from typing-inspect->simple-parsing==0.0.19.post1->graphcore-cloud-tools[logger]@ git+https://github.com/graphcore/graphcore-cloud-tools) (4.7.1)\n",
      "Requirement already satisfied: mypy-extensions>=0.3.0 in /opt/pytorch/lib/python3.8/site-packages (from typing-inspect->simple-parsing==0.0.19.post1->graphcore-cloud-tools[logger]@ git+https://github.com/graphcore/graphcore-cloud-tools) (1.0.0)\n",
      "Requirement already satisfied: zipp>=3.1.0 in /opt/pytorch/lib/python3.8/site-packages (from importlib-resources>=1.4.0->jsonschema>=2.6->nbformat>=5.7.3->graphcore-cloud-tools[logger]@ git+https://github.com/graphcore/graphcore-cloud-tools) (3.15.0)\n",
      "Requirement already satisfied: decorator in /opt/pytorch/lib/python3.8/site-packages (from ipython>=7.23.1->ipykernel->ipynbname>=2021.3.2->graphcore-cloud-tools[logger]@ git+https://github.com/graphcore/graphcore-cloud-tools) (5.1.1)\n",
      "Requirement already satisfied: pickleshare in /opt/pytorch/lib/python3.8/site-packages (from ipython>=7.23.1->ipykernel->ipynbname>=2021.3.2->graphcore-cloud-tools[logger]@ git+https://github.com/graphcore/graphcore-cloud-tools) (0.7.5)\n",
      "Requirement already satisfied: backcall in /opt/pytorch/lib/python3.8/site-packages (from ipython>=7.23.1->ipykernel->ipynbname>=2021.3.2->graphcore-cloud-tools[logger]@ git+https://github.com/graphcore/graphcore-cloud-tools) (0.2.0)\n",
      "Requirement already satisfied: jedi>=0.16 in /opt/pytorch/lib/python3.8/site-packages (from ipython>=7.23.1->ipykernel->ipynbname>=2021.3.2->graphcore-cloud-tools[logger]@ git+https://github.com/graphcore/graphcore-cloud-tools) (0.18.2)\n",
      "Requirement already satisfied: pexpect>4.3 in /opt/pytorch/lib/python3.8/site-packages (from ipython>=7.23.1->ipykernel->ipynbname>=2021.3.2->graphcore-cloud-tools[logger]@ git+https://github.com/graphcore/graphcore-cloud-tools) (4.8.0)\n",
      "Requirement already satisfied: prompt-toolkit!=3.0.37,<3.1.0,>=3.0.30 in /opt/pytorch/lib/python3.8/site-packages (from ipython>=7.23.1->ipykernel->ipynbname>=2021.3.2->graphcore-cloud-tools[logger]@ git+https://github.com/graphcore/graphcore-cloud-tools) (3.0.38)\n",
      "Requirement already satisfied: pygments>=2.4.0 in /opt/pytorch/lib/python3.8/site-packages (from ipython>=7.23.1->ipykernel->ipynbname>=2021.3.2->graphcore-cloud-tools[logger]@ git+https://github.com/graphcore/graphcore-cloud-tools) (2.15.1)\n",
      "Requirement already satisfied: stack-data in /opt/pytorch/lib/python3.8/site-packages (from ipython>=7.23.1->ipykernel->ipynbname>=2021.3.2->graphcore-cloud-tools[logger]@ git+https://github.com/graphcore/graphcore-cloud-tools) (0.6.2)\n",
      "Requirement already satisfied: importlib-metadata>=4.8.3 in /opt/pytorch/lib/python3.8/site-packages (from jupyter-client>=6.1.12->ipykernel->ipynbname>=2021.3.2->graphcore-cloud-tools[logger]@ git+https://github.com/graphcore/graphcore-cloud-tools) (6.7.0)\n",
      "Requirement already satisfied: six>=1.5 in /opt/pytorch/lib/python3.8/site-packages (from python-dateutil<3.0.0,>=2.1->botocore==1.29.165->awscli>=1.24.10->graphcore-cloud-tools[logger]@ git+https://github.com/graphcore/graphcore-cloud-tools) (1.16.0)\n",
      "Requirement already satisfied: parso<0.9.0,>=0.8.0 in /opt/pytorch/lib/python3.8/site-packages (from jedi>=0.16->ipython>=7.23.1->ipykernel->ipynbname>=2021.3.2->graphcore-cloud-tools[logger]@ git+https://github.com/graphcore/graphcore-cloud-tools) (0.8.3)\n",
      "Requirement already satisfied: ptyprocess>=0.5 in /opt/pytorch/lib/python3.8/site-packages (from pexpect>4.3->ipython>=7.23.1->ipykernel->ipynbname>=2021.3.2->graphcore-cloud-tools[logger]@ git+https://github.com/graphcore/graphcore-cloud-tools) (0.7.0)\n",
      "Requirement already satisfied: wcwidth in /opt/pytorch/lib/python3.8/site-packages (from prompt-toolkit!=3.0.37,<3.1.0,>=3.0.30->ipython>=7.23.1->ipykernel->ipynbname>=2021.3.2->graphcore-cloud-tools[logger]@ git+https://github.com/graphcore/graphcore-cloud-tools) (0.2.6)\n",
      "Requirement already satisfied: pure-eval in /opt/pytorch/lib/python3.8/site-packages (from stack-data->ipython>=7.23.1->ipykernel->ipynbname>=2021.3.2->graphcore-cloud-tools[logger]@ git+https://github.com/graphcore/graphcore-cloud-tools) (0.2.2)\n",
      "Requirement already satisfied: executing>=1.2.0 in /opt/pytorch/lib/python3.8/site-packages (from stack-data->ipython>=7.23.1->ipykernel->ipynbname>=2021.3.2->graphcore-cloud-tools[logger]@ git+https://github.com/graphcore/graphcore-cloud-tools) (1.2.0)\n",
      "Requirement already satisfied: asttokens>=2.1.0 in /opt/pytorch/lib/python3.8/site-packages (from stack-data->ipython>=7.23.1->ipykernel->ipynbname>=2021.3.2->graphcore-cloud-tools[logger]@ git+https://github.com/graphcore/graphcore-cloud-tools) (2.2.1)\n",
      "Note: you may need to restart the kernel to use updated packages.\n"
     ]
    }
   ],
   "source": [
    "%pip install \"optimum-graphcore==0.7\"\n",
    "%pip install graphcore-cloud-tools[logger]@git+https://github.com/graphcore/graphcore-cloud-tools\n",
    "%load_ext graphcore_cloud_tools.notebook_logging.gc_logger"
   ]
  },
  {
   "cell_type": "code",
   "execution_count": null,
   "metadata": {},
   "outputs": [],
   "source": [
    "import subprocess\n",
    "\n",
    "# Run the pip list command and capture its output\n",
    "result = subprocess.run(['pip', 'list'], stdout=subprocess.PIPE, stderr=subprocess.PIPE, text=True)\n",
    "\n",
    "# Check if the command executed successfully\n",
    "if result.returncode == 0:\n",
    "    # Print the captured output\n",
    "    print(result.stdout)\n",
    "else:\n",
    "    # Print error message if the command failed\n",
    "    print(\"Error:\", result.stderr)"
   ]
  },
  {
   "cell_type": "code",
   "execution_count": null,
   "metadata": {},
   "outputs": [],
   "source": [
    "raise Exception"
   ]
  },
  {
   "cell_type": "markdown",
   "metadata": {},
   "source": [
    "The cache directories can be configured through environment variables or directly in the notebook:"
   ]
  },
  {
   "cell_type": "code",
   "execution_count": 2,
   "metadata": {
    "tags": []
   },
   "outputs": [],
   "source": [
    "import os\n",
    "\n",
    "executable_cache_dir = os.getenv(\"POPLAR_EXECUTABLE_CACHE_DIR\", \"/tmp/exe_cache/\") + \"/language_modelling_from_scratch\""
   ]
  },
  {
   "cell_type": "markdown",
   "metadata": {},
   "source": [
    "### Sharing your model with the community"
   ]
  },
  {
   "cell_type": "markdown",
   "metadata": {},
   "source": [
    "You can share your model with the 🤗 community. You do this by completing the following steps:\n",
    "\n",
    "1. Store your authentication token from the 🤗 website. [Sign up to 🤗](https://huggingface.co/join) if you haven't already.\n",
    "2. Execute the following cell and input your username and password:"
   ]
  },
  {
   "cell_type": "code",
   "execution_count": 3,
   "metadata": {},
   "outputs": [
    {
     "data": {
      "application/vnd.jupyter.widget-view+json": {
       "model_id": "96762f26676e4fd7a60bef0dff6f17eb",
       "version_major": 2,
       "version_minor": 0
      },
      "text/plain": [
       "VBox(children=(HTML(value='<center> <img\\nsrc=https://huggingface.co/front/assets/huggingface_logo-noborder.sv…"
      ]
     },
     "metadata": {},
     "output_type": "display_data"
    }
   ],
   "source": [
    "from huggingface_hub import notebook_login\n",
    "\n",
    "notebook_login()"
   ]
  },
  {
   "cell_type": "markdown",
   "metadata": {},
   "source": [
    "Then you need to install Git-LFS to manage large files:"
   ]
  },
  {
   "cell_type": "code",
   "execution_count": 4,
   "metadata": {},
   "outputs": [
    {
     "name": "stdout",
     "output_type": "stream",
     "text": [
      "Reading package lists... Done\n",
      "Building dependency tree       \n",
      "Reading state information... Done\n",
      "git-lfs is already the newest version (2.9.2-1).\n",
      "0 upgraded, 0 newly installed, 0 to remove and 15 not upgraded.\n"
     ]
    }
   ],
   "source": [
    "!apt install git-lfs"
   ]
  },
  {
   "cell_type": "markdown",
   "metadata": {
    "id": "1r_n9OWV3l-Q"
   },
   "source": [
    "## Preparing the dataset"
   ]
  },
  {
   "cell_type": "markdown",
   "metadata": {
    "id": "kswRMhPc3l-Q"
   },
   "source": [
    "For each of the tasks, we will use the Wikitext 2 dataset as an example. You can load it easily with the 🤗 Datasets library."
   ]
  },
  {
   "cell_type": "code",
   "execution_count": 5,
   "metadata": {
    "id": "n2ZRs1cL3l-R",
    "outputId": "11151c56-be90-4d11-e7df-db85e745ca5c"
   },
   "outputs": [],
   "source": [
    "from datasets import load_dataset\n",
    "datasets = load_dataset('wikitext', 'wikitext-2-raw-v1')"
   ]
  },
  {
   "cell_type": "markdown",
   "metadata": {
    "id": "f1-9jepM3l-W"
   },
   "source": [
    "You can replace the dataset above with any dataset hosted on [🤗 Datasets](https://huggingface.co/datasets). \n",
    "\n",
    "You can also use your own data. Just uncomment the following cell and replace the paths shown with the paths to your files:"
   ]
  },
  {
   "cell_type": "code",
   "execution_count": 6,
   "metadata": {
    "id": "uxSaGa_l3l-W"
   },
   "outputs": [],
   "source": [
    "# datasets = load_dataset(\"text\", data_files={\"train\": path_to_train.txt, \"validation\": path_to_validation.txt}"
   ]
  },
  {
   "cell_type": "markdown",
   "metadata": {
    "id": "jY1SwIrY3l-a"
   },
   "source": [
    "You can also load datasets from a CSV or a JSON file. See the Datasets documentation for [loading datasets from local files](https://huggingface.co/docs/datasets/loading_datasets.html#from-local-files) for more information."
   ]
  },
  {
   "cell_type": "markdown",
   "metadata": {
    "id": "u3EtYfeHIrIz"
   },
   "source": [
    "To access an actual element, you need to select a split (\"train\" in the example) and specify an index:"
   ]
  },
  {
   "cell_type": "code",
   "execution_count": 7,
   "metadata": {
    "id": "X6HrpprwIrIz",
    "outputId": "d7670bc0-42e4-4c09-8a6a-5c018ded7d95"
   },
   "outputs": [
    {
     "data": {
      "text/plain": [
       "{'text': ' The game \\'s battle system , the BliTZ system , is carried over directly from Valkyira Chronicles . During missions , players select each unit using a top @-@ down perspective of the battlefield map : once a character is selected , the player moves the character around the battlefield in third @-@ person . A character can only act once per @-@ turn , but characters can be granted multiple turns at the expense of other characters \\' turns . Each character has a field and distance of movement limited by their Action Gauge . Up to nine characters can be assigned to a single mission . During gameplay , characters will call out if something happens to them , such as their health points ( HP ) getting low or being knocked out by enemy attacks . Each character has specific \" Potentials \" , skills unique to each character . They are divided into \" Personal Potential \" , which are innate skills that remain unaltered unless otherwise dictated by the story and can either help or impede a character , and \" Battle Potentials \" , which are grown throughout the game and always grant boons to a character . To learn Battle Potentials , each character has a unique \" Masters Table \" , a grid @-@ based skill table that can be used to acquire and link different skills . Characters also have Special Abilities that grant them temporary boosts on the battlefield : Kurt can activate \" Direct Command \" and move around the battlefield without depleting his Action Point gauge , the character Reila can shift into her \" Valkyria Form \" and become invincible , while Imca can target multiple enemy units with her heavy weapon . \\n'}"
      ]
     },
     "execution_count": 7,
     "metadata": {},
     "output_type": "execute_result"
    }
   ],
   "source": [
    "datasets[\"train\"][10]"
   ]
  },
  {
   "cell_type": "markdown",
   "metadata": {
    "id": "WHUmphG3IrI3"
   },
   "source": [
    "We want to get a sense of what the data looks like, so we define the `show_random_elements` function to display some examples picked randomly from the dataset."
   ]
  },
  {
   "cell_type": "code",
   "execution_count": 8,
   "metadata": {
    "id": "ur5sNUcZ3l-g"
   },
   "outputs": [],
   "source": [
    "from datasets import ClassLabel\n",
    "import random\n",
    "import pandas as pd\n",
    "from IPython.display import display, HTML\n",
    "\n",
    "def show_random_elements(dataset, num_examples=10):\n",
    "    assert num_examples <= len(dataset), \"Can't pick more elements than there are in the dataset.\"\n",
    "    picks = []\n",
    "    for _ in range(num_examples):\n",
    "        pick = random.randint(0, len(dataset)-1)\n",
    "        while pick in picks:\n",
    "            pick = random.randint(0, len(dataset)-1)\n",
    "        picks.append(pick)\n",
    "    \n",
    "    df = pd.DataFrame(dataset[picks])\n",
    "    for column, typ in dataset.features.items():\n",
    "        if isinstance(typ, ClassLabel):\n",
    "            df[column] = df[column].transform(lambda i: typ.names[i])\n",
    "    display(HTML(df.to_html()))"
   ]
  },
  {
   "cell_type": "code",
   "execution_count": 9,
   "metadata": {
    "id": "1Uk8NROQ3l-k",
    "outputId": "a822dcec-51e3-4dba-c73c-dba9e0301726"
   },
   "outputs": [
    {
     "data": {
      "text/html": [
       "<table border=\"1\" class=\"dataframe\">\n",
       "  <thead>\n",
       "    <tr style=\"text-align: right;\">\n",
       "      <th></th>\n",
       "      <th>text</th>\n",
       "    </tr>\n",
       "  </thead>\n",
       "  <tbody>\n",
       "    <tr>\n",
       "      <th>0</th>\n",
       "      <td>True to the then @-@ ideal of Manifest Destiny , over 500 @,@ 000 people set out from the river town of Independence , Missouri to their various destinations in the American West from the 1830s to the 1860s . These people had many reasons to embark on this strenuous year @-@ long journey – economic crisis , and later gold strikes including the California Gold Rush , for example . For most , the route took them up the Missouri to Omaha , Nebraska , where they would set out along the Platte River , which flows from the Rocky Mountains in Wyoming and Colorado eastwards through the Great Plains . An early expedition led by Robert Stuart from 1812 to 1813 proved the Platte impossible to navigate by the dugout canoes they used , let alone the large sidewheelers and sternwheelers that would later ply the Missouri in increasing numbers . One explorer remarked that the Platte was \" too thick to drink , too thin to plow \" . Nevertheless , the Platte provided an abundant and reliable source of water for the pioneers as they headed west . Covered wagons , popularly referred to as prairie schooners , provided the primary means of transport until the beginning of regular boat service on the river in the 1850s . \\n</td>\n",
       "    </tr>\n",
       "    <tr>\n",
       "      <th>1</th>\n",
       "      <td></td>\n",
       "    </tr>\n",
       "    <tr>\n",
       "      <th>2</th>\n",
       "      <td></td>\n",
       "    </tr>\n",
       "    <tr>\n",
       "      <th>3</th>\n",
       "      <td>= = = = Success and fame = = = = \\n</td>\n",
       "    </tr>\n",
       "    <tr>\n",
       "      <th>4</th>\n",
       "      <td></td>\n",
       "    </tr>\n",
       "    <tr>\n",
       "      <th>5</th>\n",
       "      <td>On D @-@ Day at Gold , naval bombardment got underway at 05 : 30 , and amphibious landings commenced at 07 : 25 . High winds made conditions difficult for the landing craft , and the amphibious DD tanks were released close to shore or directly on the beach instead of further out as planned . Three of the four guns in a large emplacement at the Longues @-@ sur @-@ Mer battery were disabled by direct hits from the cruisers Ajax and Argonaut at 06 : 20 . The fourth gun resumed firing intermittently in the afternoon , and its garrison surrendered on 7 June . Aerial attacks had failed to hit the Le Hamel strongpoint , which had its embrasure facing east to provide enfilade fire along the beach and had a thick concrete wall on the seaward side . Its 75 mm gun continued to do damage until 16 : 00 , when a modified Armoured Vehicle Royal Engineers ( AVRE ) tank fired a large petard charge into its rear entrance . A second casemated emplacement at La Rivière containing an 88 mm gun was neutralised by a tank at 07 : 30 . \\n</td>\n",
       "    </tr>\n",
       "    <tr>\n",
       "      <th>6</th>\n",
       "      <td>= = Colours and badge = = \\n</td>\n",
       "    </tr>\n",
       "    <tr>\n",
       "      <th>7</th>\n",
       "      <td>= = Production = = \\n</td>\n",
       "    </tr>\n",
       "    <tr>\n",
       "      <th>8</th>\n",
       "      <td>= = Biography = = \\n</td>\n",
       "    </tr>\n",
       "    <tr>\n",
       "      <th>9</th>\n",
       "      <td>On 15 January 1944 , an earthquake occurred in the town of San Juan , Argentina , killing some 10 @,@ 000 people . In response , Perón , who was then the Secretary of Labour , established a fund to raise money to aid the victims . He devised a plan to have an \" artistic festival \" as a fundraiser , and invited radio and film actors to participate . After a week of fundraising , all participants met at a gala held at Luna Park Stadium in Buenos Aires to benefit earthquake victims . It was at this gala , on 22 January 1944 , that Eva Duarte first met Colonel Juan Perón . Eva promptly became the colonel 's mistress . Eva referred to the day she met her future husband as her \" marvelous day \" . Fraser and Navarro write that Juan Perón and Eva left the gala together at around two in the morning . \\n</td>\n",
       "    </tr>\n",
       "  </tbody>\n",
       "</table>"
      ],
      "text/plain": [
       "<IPython.core.display.HTML object>"
      ]
     },
     "metadata": {},
     "output_type": "display_data"
    }
   ],
   "source": [
    "show_random_elements(datasets[\"train\"])"
   ]
  },
  {
   "cell_type": "markdown",
   "metadata": {
    "id": "CKerdF353l-o"
   },
   "source": [
    "As we can see, some of the text samples are a full paragraph of a Wikipedia article while others are just titles or empty lines."
   ]
  },
  {
   "cell_type": "markdown",
   "metadata": {
    "id": "JEA1ju653l-p"
   },
   "source": [
    "## Causal language modelling"
   ]
  },
  {
   "cell_type": "markdown",
   "metadata": {
    "id": "v5GTGKZS3l-q"
   },
   "source": [
    "For causal language modelling (CLM) we are going to take all the text in our dataset and concatenate them after they are tokenized. Then we will split them in samples of a certain sequence length. This means that the model will receive chunks of contiguous text that may look like:\n",
    "```\n",
    "part of text 1\n",
    "```\n",
    "or \n",
    "```\n",
    "end of text 1 [BOS_TOKEN] beginning of text 2\n",
    "```\n",
    "depending on whether the samples span over several of the original text samples in the dataset or not. The labels will be the same as the inputs, shifted to the left.\n",
    "\n",
    "We will use the [`gpt2`](https://huggingface.co/gpt2) architecture for this example. You can pick any of the [🤗 models for causal language modelling](https://huggingface.co/models?filter=causal-lm) as long as that model is supported by Optimum Graphcore. The IPU config files of the supported models are available in Graphcore's [🤗 account](https://huggingface.co/Graphcore). You can also create your own IPU config file locally. For the tokenizer, you can replace the checkpoint with the one you trained yourself.\n",
    "\n",
    "In this notebook, we are using both data parallelism and pipeline parallelism (see the [tutorial on efficient data loading](https://github.com/graphcore/examples/tree/master/tutorials/tutorials/pytorch/efficient_data_loading) for more information). Therefore the global batch size, which is the actual number of samples used for the weight update, is determined from three factors:\n",
    "- global batch size = micro batch size * gradient accumulation steps * replication factor\n",
    "\n",
    "The replication factor is determined by the type of IPU Pod used, which will be used as a key to select the replication factor from a dictionary defined in the IPU config file. For example, the dictionary in the IPU config file [Graphcore/gpt2-small-ipu](https://huggingface.co/Graphcore/gpt2-small-ipu/blob/main/ipu_config.json) looks like this:\n",
    "- \"replication_factor\": {\"pod4\": 1, \"pod8\": 2, \"pod16\": 4, \"pod32\": 8, \"pod64\": 16, \"default\": 1}\n",
    "\n",
    "Depending on your model and the IPU Pod you are using, you might need to adjust these three batch-size-related arguments."
   ]
  },
  {
   "cell_type": "code",
   "execution_count": 10,
   "metadata": {
    "id": "-WGBCO343l-q"
   },
   "outputs": [],
   "source": [
    "model_checkpoint = \"gpt2\"\n",
    "tokenizer_checkpoint = \"sgugger/gpt2-like-tokenizer\"\n",
    "\n",
    "ipu_config_name = \"Graphcore/gpt2-small-ipu\"\n",
    "micro_batch_size = 1\n",
    "gradient_accumulation_steps = 64\n",
    "dataloader_workers = 64"
   ]
  },
  {
   "cell_type": "markdown",
   "metadata": {
    "id": "5io6fY_d3l-u"
   },
   "source": [
    "To tokenize all our text samples with the same vocabulary that was used when training the model, we have to download a pre-trained tokenizer. This is all done by the `AutoTokenizer` class:"
   ]
  },
  {
   "cell_type": "code",
   "execution_count": 11,
   "metadata": {
    "id": "iAYlS40Z3l-v"
   },
   "outputs": [],
   "source": [
    "from transformers import AutoTokenizer\n",
    "    \n",
    "tokenizer = AutoTokenizer.from_pretrained(tokenizer_checkpoint)"
   ]
  },
  {
   "cell_type": "markdown",
   "metadata": {
    "id": "rpOiBrJ13l-y"
   },
   "source": [
    "We can now call the tokenizer on all our text samples. This is very simple, using the [`map`](https://huggingface.co/docs/datasets/package_reference/main_classes.html#datasets.Dataset.map) method from the Datasets library. First we define a function that calls the tokenizer on our texts:"
   ]
  },
  {
   "cell_type": "code",
   "execution_count": 12,
   "metadata": {
    "id": "lS2m25YM3l-z"
   },
   "outputs": [],
   "source": [
    "def tokenize_function(examples):\n",
    "    return tokenizer(examples[\"text\"])"
   ]
  },
  {
   "cell_type": "markdown",
   "metadata": {
    "id": "M9xVAa3s3l-2"
   },
   "source": [
    "Then we apply it to all the splits in our `datasets` object, using `batched=True` and 4 processes to speed up the preprocessing. We won't need the `text` column afterward, so we discard it."
   ]
  },
  {
   "cell_type": "code",
   "execution_count": 13,
   "metadata": {
    "id": "NVAO0H8u3l-3",
    "outputId": "30d88b8a-e353-4e13-f709-8e5e06ef747b",
    "scrolled": true
   },
   "outputs": [],
   "source": [
    "tokenized_datasets = datasets.map(tokenize_function, batched=True, num_proc=4, remove_columns=[\"text\"])"
   ]
  },
  {
   "cell_type": "markdown",
   "metadata": {
    "id": "8qik3J_C3l-7"
   },
   "source": [
    "If we now look at an element of our datasets, we will see the text has been replaced with `input_ids` that the model will need:"
   ]
  },
  {
   "cell_type": "code",
   "execution_count": 14,
   "metadata": {
    "id": "nYv_mcKk3l-7",
    "outputId": "8334734c-0f86-4e18-ec17-4216a2d5dd18"
   },
   "outputs": [
    {
     "data": {
      "text/plain": [
       "{'input_ids': [238, 8576, 9441, 2987, 238, 252],\n",
       " 'attention_mask': [1, 1, 1, 1, 1, 1]}"
      ]
     },
     "execution_count": 14,
     "metadata": {},
     "output_type": "execute_result"
    }
   ],
   "source": [
    "tokenized_datasets[\"train\"][1]"
   ]
  },
  {
   "cell_type": "markdown",
   "metadata": {
    "id": "obvgcXda3l--"
   },
   "source": [
    "Now we need to concatenate all our text samples together then split the result into small chunks of a certain block size (`block_size`). To do this, we will use the `map` method again, with the option `batched=True`. This option lets us change the number of samples in the datasets by returning a different number of samples than we originally had. This means that we can create a new set of samples from an existing set of samples.\n",
    "\n",
    "We can read the maximum length our model was pre-trained with (with tokenizer.model_max_length), but since the value might be too big to fit on your IPU RAM, we set it to 128."
   ]
  },
  {
   "cell_type": "code",
   "execution_count": 15,
   "metadata": {
    "id": "DVHs5aCA3l-_"
   },
   "outputs": [],
   "source": [
    "# block_size = tokenizer.model_max_length\n",
    "block_size = 128"
   ]
  },
  {
   "cell_type": "markdown",
   "metadata": {
    "id": "RpNfGiMw3l_A"
   },
   "source": [
    "Then we write the preprocessing function that will group our text samples:"
   ]
  },
  {
   "cell_type": "code",
   "execution_count": 16,
   "metadata": {
    "id": "iaAJy5Hu3l_B"
   },
   "outputs": [],
   "source": [
    "def group_texts(examples):\n",
    "    # Concatenate all texts.\n",
    "    concatenated_examples = {k: sum(examples[k], []) for k in examples.keys()}\n",
    "    total_length = len(concatenated_examples[list(examples.keys())[0]])\n",
    "    # We drop the small remainder, we could add padding if the model supported it instead of this drop, you can\n",
    "        # customize this part to your needs.\n",
    "    total_length = (total_length // block_size) * block_size\n",
    "    # Split by chunks of max_len.\n",
    "    result = {\n",
    "        k: [t[i : i + block_size] for i in range(0, total_length, block_size)]\n",
    "        for k, t in concatenated_examples.items()\n",
    "    }\n",
    "    result[\"labels\"] = result[\"input_ids\"].copy()\n",
    "    return result"
   ]
  },
  {
   "cell_type": "markdown",
   "metadata": {
    "id": "LGJWXtNv3l_C"
   },
   "source": [
    "Note that we duplicate the inputs for our labels. This is because the model of the 🤗 Transformers library applies a shift to the right, so we don't need to do it manually.\n",
    "\n",
    "Also note that by default, the `map` method will send a batch of 1,000 examples to be treated by the preprocessing function. So here, we will drop the remainder to make the concatenated tokenized text samples a multiple of `block_size` every 1,000 examples. You can adjust this behaviour by passing a larger batch size (which will also take longer to be processed). You can also speed up the preprocessing by using multiprocessing:"
   ]
  },
  {
   "cell_type": "code",
   "execution_count": 17,
   "metadata": {
    "id": "gXUSfBrq3l_C",
    "outputId": "34e55885-3d8f-4f05-cbdb-706ce56a25f8",
    "scrolled": true
   },
   "outputs": [],
   "source": [
    "lm_datasets = tokenized_datasets.map(\n",
    "    group_texts,\n",
    "    batched=True,\n",
    "    batch_size=1000,\n",
    "    num_proc=4,\n",
    ")"
   ]
  },
  {
   "cell_type": "markdown",
   "metadata": {
    "id": "6n84V8Gc3l_G"
   },
   "source": [
    "We can check our datasets have changed. Now the samples contain chunks of `block_size` contiguous tokens, potentially spanning over several of our original text samples."
   ]
  },
  {
   "cell_type": "code",
   "execution_count": 18,
   "metadata": {
    "id": "hTeGCLl_3l_G",
    "outputId": "ab381a07-f92e-4b14-f7b6-e4af5513d7c4"
   },
   "outputs": [
    {
     "data": {
      "text/plain": [
       "' the \" Nameless \", a penal military unit serving the nation of Gallia during the Second Europan War who perform secret black operations and are pitted against the Imperial unit \" Calamaty Raven \". \\n The game began development in 2010, carrying over a large portion of the work done on Valkyria Chronicles II. While it retained the standard features of the series, it also underwent multiple adjustments, such as making the game more forgiving for series newcomers. Character designer Raita Honjou and composer Hitoshi Sakimoto both returned from previous entries, along with Valkyria Chronicles II director Takeshi Ozawa. A large'"
      ]
     },
     "execution_count": 18,
     "metadata": {},
     "output_type": "execute_result"
    }
   ],
   "source": [
    "tokenizer.decode(lm_datasets[\"train\"][1][\"input_ids\"])"
   ]
  },
  {
   "cell_type": "markdown",
   "metadata": {
    "id": "iEmeQ7Xm3l_H"
   },
   "source": [
    "To instantiate `IPUTrainer`, we will need to define:\n",
    "* `IPUConfig`, which is a class that specifies attributes and configuration parameters to compile and put the model on the device.\n",
    "* A model.\n",
    "* `IPUTrainingArguments`, which is a class that contains all the attributes to customize the training.\n",
    "\n",
    "We initialize `IPUConfig` with one config name or a path, which we set earlier. We also get the model configuration from the model name set earlier and initialize our model using that config."
   ]
  },
  {
   "cell_type": "code",
   "execution_count": 19,
   "metadata": {
    "id": "sPqQA3TT3l_I"
   },
   "outputs": [
    {
     "name": "stderr",
     "output_type": "stream",
     "text": [
      "`replicated_tensor_sharding` is not used when `replication_factor=1`\n"
     ]
    }
   ],
   "source": [
    "from transformers import AutoConfig, AutoModelForCausalLM\n",
    "from optimum.graphcore import IPUConfig, IPUTrainer, IPUTrainingArguments\n",
    "\n",
    "ipu_config = IPUConfig.from_pretrained(ipu_config_name, executable_cache_dir=executable_cache_dir)\n",
    "\n",
    "config = AutoConfig.from_pretrained(model_checkpoint)\n",
    "config.update({'activation_function':'gelu'})\n",
    "model = AutoModelForCausalLM.from_config(config)"
   ]
  },
  {
   "cell_type": "markdown",
   "metadata": {},
   "source": [
    "`IPUTrainingArguments` requires one folder name, which will be used to save the checkpoints of the model. All other arguments are optional:"
   ]
  },
  {
   "cell_type": "code",
   "execution_count": 20,
   "metadata": {
    "id": "YbSwEhQ63l_L"
   },
   "outputs": [],
   "source": [
    "training_args = IPUTrainingArguments(\n",
    "    f\"{model_checkpoint}-wikitext2\",\n",
    "    learning_rate=2e-5,\n",
    "    weight_decay=0.01,\n",
    "    per_device_train_batch_size=micro_batch_size,\n",
    "    per_device_eval_batch_size=micro_batch_size,\n",
    "    gradient_accumulation_steps=gradient_accumulation_steps,\n",
    "    num_train_epochs=10,\n",
    "    loss_scaling=16384,\n",
    "    n_ipu=4,\n",
    "    warmup_ratio=0.1,\n",
    "    dataloader_drop_last=True,\n",
    "    dataloader_num_workers=dataloader_workers,\n",
    "    logging_steps=10,\n",
    "    push_to_hub=False,\n",
    "    # hub_model_id=f\"username-or-organization/{model_checkpoint}-wikitext2\",\n",
    ")"
   ]
  },
  {
   "cell_type": "markdown",
   "metadata": {},
   "source": [
    "`push_to_hub` and `hub_model_id` in `IPUTrainingArguments` are necessary if we want to push the model to the [🤗 Models Hub](https://huggingface.co/models) regularly during training. You can remove them if you didn't follow the installation steps at the beginning of this notebook. If you want to save your model locally to a name that is different to the name of the repository it will be pushed to, or if you want to push your model under an organization and not your name space, use the `hub_model_id` argument to set the repo name (it needs to be the full name, including your namespace: for instance `\"sgugger/gpt-finetuned-wikitext2\"` or `\"huggingface/gpt-finetuned-wikitext2\"`)."
   ]
  },
  {
   "cell_type": "markdown",
   "metadata": {
    "id": "sZRbT9ui3l_N"
   },
   "source": [
    "Finally, we pass along all of these to the `IPUTrainer` class:"
   ]
  },
  {
   "cell_type": "code",
   "execution_count": 21,
   "metadata": {
    "id": "OEuqwIra3l_N",
    "scrolled": true
   },
   "outputs": [
    {
     "name": "stderr",
     "output_type": "stream",
     "text": [
      "Overriding IPU config: gradient_accumulation_steps=64\n",
      "-------------------- Device Allocation --------------------\n",
      "Token Embedding     --> IPU 0\n",
      "Position Embedding  --> IPU 0\n",
      "Layer 0             --> IPU 1\n",
      "Layer 1             --> IPU 1\n",
      "Layer 2             --> IPU 1\n",
      "Layer 3             --> IPU 1\n",
      "Layer 4             --> IPU 2\n",
      "Layer 5             --> IPU 2\n",
      "Layer 6             --> IPU 2\n",
      "Layer 7             --> IPU 2\n",
      "Layer 8             --> IPU 3\n",
      "Layer 9             --> IPU 3\n",
      "Layer 10            --> IPU 3\n",
      "Layer 11            --> IPU 3\n",
      "Head                --> IPU 0\n",
      "-----------------------------------------------------------\n"
     ]
    }
   ],
   "source": [
    "from transformers import default_data_collator\n",
    "\n",
    "trainer = IPUTrainer(\n",
    "    model=model,\n",
    "    ipu_config=ipu_config,\n",
    "    args=training_args,\n",
    "    train_dataset=lm_datasets[\"train\"],\n",
    "    eval_dataset=lm_datasets[\"validation\"],\n",
    "    tokenizer=tokenizer,\n",
    "    data_collator=default_data_collator,\n",
    ")"
   ]
  },
  {
   "cell_type": "markdown",
   "metadata": {
    "id": "6Vvz34Td3l_O"
   },
   "source": [
    "We are now ready to train our model:"
   ]
  },
  {
   "cell_type": "code",
   "execution_count": 22,
   "metadata": {
    "id": "NyZvu_MF3l_P",
    "outputId": "b69d0931-7f1f-4f2d-fdb8-09d37c7418bb"
   },
   "outputs": [],
   "source": [
    "# trainer.train()"
   ]
  },
  {
   "cell_type": "markdown",
   "metadata": {
    "id": "3APq-vUc3l_R"
   },
   "source": [
    "Once the training is complete, we can evaluate our model and get its perplexity on the validation set like this:"
   ]
  },
  {
   "cell_type": "code",
   "execution_count": 23,
   "metadata": {
    "id": "diKZnB1I3l_R",
    "outputId": "9b3ac725-0117-4830-f380-a555ee57c8cf"
   },
   "outputs": [],
   "source": [
    "import math\n",
    "# eval_results = trainer.evaluate()\n",
    "# print(f\"Perplexity: {math.exp(eval_results['eval_loss']):.2f}\")"
   ]
  },
  {
   "cell_type": "markdown",
   "metadata": {},
   "source": [
    "The perplexity is still quite high since we only trained on a small dataset for a small number of epochs. For a real language model training, you would need a larger dataset and more epochs."
   ]
  },
  {
   "cell_type": "markdown",
   "metadata": {
    "id": "wY82caEX3l_i"
   },
   "source": [
    "You can now upload the result of the training to the 🤗 Hub:"
   ]
  },
  {
   "cell_type": "code",
   "execution_count": 24,
   "metadata": {},
   "outputs": [],
   "source": [
    "# trainer.push_to_hub()"
   ]
  },
  {
   "cell_type": "markdown",
   "metadata": {},
   "source": [
    "You can now share this model and other users can load it with the identifier `\"your-username/the-name-you-picked\"` so for instance:\n",
    "\n",
    "```python\n",
    "from transformers import AutoModelForCausalLM\n",
    "\n",
    "model = AutoModelForCausalLM.from_pretrained(\"sgugger/my-awesome-model\")\n",
    "```"
   ]
  },
  {
   "cell_type": "markdown",
   "metadata": {
    "id": "q-EIELH43l_T"
   },
   "source": [
    "## Masked language modelling"
   ]
  },
  {
   "cell_type": "markdown",
   "metadata": {
    "id": "LWk97-Ny3l_T"
   },
   "source": [
    "For masked language modelling (MLM) we are going to use the same preprocessing as before for our dataset with one additional step: we will randomly mask some tokens (by replacing them with `[MASK]` and the labels will be adjusted to only include the masked tokens (we don't have to predict the non-masked tokens). If you use a tokenizer you trained yourself, make sure the `[MASK]` token is among the special tokens you passed during training!\n",
    "\n",
    "We will use the [`bert-base-cased`](https://huggingface.co/bert-based-cased) model for this example.  You can pick any of the [🤗 models for masked language modelling](https://huggingface.co/models?filter=masked-lm) as long as that model is supported by Optimum Graphcore. The IPU config files of the supported models are available in Graphcore's [🤗 account](https://huggingface.co/Graphcore). You can also create your own IPU config file locally. For the tokenizer, replace the checkpoint with the one you trained."
   ]
  },
  {
   "cell_type": "code",
   "execution_count": 25,
   "metadata": {
    "id": "QRTpmyCc3l_T"
   },
   "outputs": [],
   "source": [
    "model_checkpoint = \"bert-base-cased\"\n",
    "tokenizer_checkpoint = \"sgugger/bert-like-tokenizer\"\n",
    "\n",
    "ipu_config_name = \"Graphcore/bert-base-ipu\""
   ]
  },
  {
   "cell_type": "markdown",
   "metadata": {
    "id": "12F1ulgT3l_V"
   },
   "source": [
    "We can apply the same tokenization function as before, we just need to update our tokenizer to use the model checkpoint we just picked:"
   ]
  },
  {
   "cell_type": "code",
   "execution_count": 26,
   "metadata": {
    "id": "h8RCYcvr3l_V",
    "outputId": "a5ffeb0a-71da-4b27-e57a-c62f1927562e",
    "scrolled": true
   },
   "outputs": [],
   "source": [
    "tokenizer = AutoTokenizer.from_pretrained(tokenizer_checkpoint)\n",
    "tokenized_datasets = datasets.map(tokenize_function, batched=True, num_proc=4, remove_columns=[\"text\"])"
   ]
  },
  {
   "cell_type": "markdown",
   "metadata": {
    "id": "MTuy8UUs3l_X"
   },
   "source": [
    "As with the causal language modelling example, we group the text samples together and create chunks of length `block_size`. You can skip that step if your dataset is composed of individual sentences."
   ]
  },
  {
   "cell_type": "code",
   "execution_count": 27,
   "metadata": {
    "id": "LVYPMwEs3l_X",
    "outputId": "e71ed7f1-b182-4643-a8fb-3d731c70e40b",
    "scrolled": true
   },
   "outputs": [],
   "source": [
    "lm_datasets = tokenized_datasets.map(\n",
    "    group_texts,\n",
    "    batched=True,\n",
    "    batch_size=1000,\n",
    "    num_proc=4,\n",
    ")"
   ]
  },
  {
   "cell_type": "markdown",
   "metadata": {
    "id": "nFJ49iHJ3l_Z"
   },
   "source": [
    "The rest is very similar to what we did for causal language modelling, with two exceptions:\n",
    "* We need a model suitable for masked language modelling.\n",
    "* We need a special data collator.\n",
    "\n",
    "First, we use a model suitable for masked language modelling:"
   ]
  },
  {
   "cell_type": "code",
   "execution_count": 28,
   "metadata": {
    "id": "PM10A9Za3l_Z",
    "outputId": "fff2d5bb-397d-4d5d-9aa9-933090cb6680"
   },
   "outputs": [
    {
     "name": "stderr",
     "output_type": "stream",
     "text": [
      "loading configuration file ipu_config.json from cache at /tmp/huggingface_caches/checkpoints/models--Graphcore--bert-base-ipu/snapshots/0bbecd4f090aa0bd3b916b6914bed1b08be854f3/ipu_config.json\n",
      "`replicated_tensor_sharding` is not used when `replication_factor=1`\n",
      "IPUConfig {\n",
      "  \"auto_loss_scaling\": false,\n",
      "  \"device_iterations\": 1,\n",
      "  \"embedding_serialization_factor\": 1,\n",
      "  \"enable_half_partials\": true,\n",
      "  \"executable_cache_dir\": \"/tmp/exe_cache/3.3.0/language_modelling_from_scratch\",\n",
      "  \"execute_encoder_on_cpu_for_generation\": false,\n",
      "  \"gradient_accumulation_steps\": 16,\n",
      "  \"inference_device_iterations\": 5,\n",
      "  \"inference_embedding_serialization_factor\": 1,\n",
      "  \"inference_ipus_per_replica\": 4,\n",
      "  \"inference_layers_per_ipu\": [\n",
      "    0,\n",
      "    4,\n",
      "    4,\n",
      "    4\n",
      "  ],\n",
      "  \"inference_matmul_proportion\": 0.25,\n",
      "  \"inference_projection_serialization_factor\": 1,\n",
      "  \"inference_replication_factor\": 1,\n",
      "  \"inference_serialized_embedding_splits_per_ipu\": null,\n",
      "  \"inference_serialized_projection_splits_per_ipu\": null,\n",
      "  \"ipus_per_replica\": 4,\n",
      "  \"layers_per_ipu\": [\n",
      "    0,\n",
      "    4,\n",
      "    4,\n",
      "    4\n",
      "  ],\n",
      "  \"matmul_proportion\": 0.25,\n",
      "  \"optimizer_state_offchip\": false,\n",
      "  \"optimum_version\": \"1.6.1\",\n",
      "  \"output_mode\": \"final\",\n",
      "  \"projection_serialization_factor\": 1,\n",
      "  \"recompute_checkpoint_every_layer\": true,\n",
      "  \"replicated_tensor_sharding\": true,\n",
      "  \"replication_factor\": 1,\n",
      "  \"seed\": null,\n",
      "  \"serialized_embedding_splits_per_ipu\": null,\n",
      "  \"serialized_projection_splits_per_ipu\": null,\n",
      "  \"transformers_version\": \"4.29.2\"\n",
      "}\n",
      "\n"
     ]
    }
   ],
   "source": [
    "from transformers import AutoConfig, AutoModelForMaskedLM\n",
    "from optimum.graphcore import IPUConfig, IPUTrainer, IPUTrainingArguments\n",
    "\n",
    "ipu_config = IPUConfig.from_pretrained(ipu_config_name, executable_cache_dir=executable_cache_dir)\n",
    "\n",
    "config = AutoConfig.from_pretrained(model_checkpoint)\n",
    "model = AutoModelForMaskedLM.from_config(config)"
   ]
  },
  {
   "cell_type": "markdown",
   "metadata": {},
   "source": [
    "We redefine the `IPUTrainingArguments` class:"
   ]
  },
  {
   "cell_type": "code",
   "execution_count": 29,
   "metadata": {
    "id": "YbSwEhQ63l_L"
   },
   "outputs": [],
   "source": [
    "training_args = IPUTrainingArguments(\n",
    "    f\"{model_checkpoint}-wikitext2-test-mlm\",\n",
    "    learning_rate=2e-5,\n",
    "    weight_decay=0.01,\n",
    "    per_device_train_batch_size=micro_batch_size,\n",
    "    per_device_eval_batch_size=micro_batch_size,\n",
    "    gradient_accumulation_steps=gradient_accumulation_steps,\n",
    "    num_train_epochs=10,\n",
    "    dataloader_drop_last=True,\n",
    "    dataloader_num_workers=dataloader_workers,\n",
    "    warmup_ratio=0.1,\n",
    "    logging_steps=10,\n",
    "    n_ipu=4,\n",
    "    push_to_hub=False,\n",
    "    # hub_model_id=f\"username-or-organization/{model_checkpoint}-wikitext2-test-mlm\",\n",
    ")"
   ]
  },
  {
   "cell_type": "markdown",
   "metadata": {},
   "source": [
    "Like before, the last two arguments in `IPUTrainingArguments` are needed if we want to push the model to the [🤗 Models Hub](https://huggingface.co/models) at the end of training. Remove these two arguments if you didn't follow the installation steps at the top of the notebook. If you want to save your model locally to a name that is different to the name of the repository it will be pushed to, or if you want to push your model under an organization and not your name space, use the `hub_model_id` argument to set the repo name (it needs to be the full name, including your namespace: for instance `\"sgugger/gpt-finetuned-wikitext2\"` or `\"huggingface/gpt-finetuned-wikitext2\"`)."
   ]
  },
  {
   "cell_type": "markdown",
   "metadata": {
    "id": "z6uuUnvz3l_b"
   },
   "source": [
    "Finally, we use a special data collator. The data collator is a function that is responsible for taking samples and batching them into tensors. In the causal language modelling example, we didn't need anything special, so we just used the default data collator. Here we want to randomly mask the data. We could do it as a pre-processing step (like with the tokenization) but then the tokens would always be masked the same way at each epoch. By doing this step inside the data collator, we ensure this random masking is done in a new way each time we go over the data.\n",
    "\n",
    "To do this masking, we use `DataCollatorForLanguagemodelling` which lets us adjust the probability of the masking:"
   ]
  },
  {
   "cell_type": "code",
   "execution_count": 30,
   "metadata": {
    "id": "nRZ-5v_P3l_b"
   },
   "outputs": [],
   "source": [
    "from transformers import DataCollatorForLanguageModeling\n",
    "data_collator = DataCollatorForLanguageModeling(tokenizer=tokenizer, mlm_probability=0.15)"
   ]
  },
  {
   "cell_type": "markdown",
   "metadata": {
    "id": "bqHnWcYC3l_d"
   },
   "source": [
    "Then we just have to pass everything to `IPUTrainer` and begin training:"
   ]
  },
  {
   "cell_type": "code",
   "execution_count": 31,
   "metadata": {},
   "outputs": [
    {
     "name": "stdout",
     "output_type": "stream",
     "text": [
      "rrr executing free -h before train\n",
      "              total        used        free      shared  buff/cache   available\n",
      "Mem:          503Gi        32Gi       216Gi       9.0Mi       255Gi       468Gi\n",
      "Swap:            0B          0B          0B\n"
     ]
    }
   ],
   "source": [
    "print(\"rrr executing free -h before train\")\n",
    "!free -h"
   ]
  },
  {
   "cell_type": "code",
   "execution_count": 32,
   "metadata": {
    "id": "V-Y3gNqV3l_d"
   },
   "outputs": [
    {
     "name": "stderr",
     "output_type": "stream",
     "text": [
      "Overriding IPU config: gradient_accumulation_steps=64\n",
      "-------------------- Device Allocation --------------------\n",
      "Embedding  --> IPU 0\n",
      "Encoder 0  --> IPU 1\n",
      "Encoder 1  --> IPU 1\n",
      "Encoder 2  --> IPU 1\n",
      "Encoder 3  --> IPU 1\n",
      "Encoder 4  --> IPU 2\n",
      "Encoder 5  --> IPU 2\n",
      "Encoder 6  --> IPU 2\n",
      "Encoder 7  --> IPU 2\n",
      "Encoder 8  --> IPU 3\n",
      "Encoder 9  --> IPU 3\n",
      "Encoder 10 --> IPU 3\n",
      "Encoder 11 --> IPU 3\n",
      "Classifier --> IPU 0\n",
      "-----------------------------------------------------------\n"
     ]
    }
   ],
   "source": [
    "trainer = IPUTrainer(\n",
    "    model=model,\n",
    "    args=training_args,\n",
    "    ipu_config=ipu_config,\n",
    "    train_dataset=lm_datasets[\"train\"],\n",
    "    eval_dataset=lm_datasets[\"validation\"],\n",
    "    data_collator=data_collator,\n",
    ")"
   ]
  },
  {
   "cell_type": "code",
   "execution_count": 33,
   "metadata": {
    "id": "Y9TFqDG_3l_e",
    "outputId": "2e0c8bca-0e04-4b4f-ad06-8dd320af6c37",
    "scrolled": true
   },
   "outputs": [
    {
     "name": "stderr",
     "output_type": "stream",
     "text": [
      "-------------------- Device Allocation --------------------\n",
      "Embedding  --> IPU 0\n",
      "Encoder 0  --> IPU 1\n",
      "Encoder 1  --> IPU 1\n",
      "Encoder 2  --> IPU 1\n",
      "Encoder 3  --> IPU 1\n",
      "Encoder 4  --> IPU 2\n",
      "Encoder 5  --> IPU 2\n",
      "Encoder 6  --> IPU 2\n",
      "Encoder 7  --> IPU 2\n",
      "Encoder 8  --> IPU 3\n",
      "Encoder 9  --> IPU 3\n",
      "Encoder 10 --> IPU 3\n",
      "Encoder 11 --> IPU 3\n",
      "Classifier --> IPU 0\n",
      "-----------------------------------------------------------\n",
      "You're using a BertTokenizerFast tokenizer. Please note that with a fast tokenizer, using the `__call__` method is faster than using a method to encode the text followed by a call to the `pad` method to get a padded encoding.\n",
      "You're using a BertTokenizerFast tokenizer. Please note that with a fast tokenizer, using the `__call__` method is faster than using a method to encode the text followed by a call to the `pad` method to get a padded encoding.\n",
      "You're using a BertTokenizerFast tokenizer. Please note that with a fast tokenizer, using the `__call__` method is faster than using a method to encode the text followed by a call to the `pad` method to get a padded encoding.\n",
      "You're using a BertTokenizerFast tokenizer. Please note that with a fast tokenizer, using the `__call__` method is faster than using a method to encode the text followed by a call to the `pad` method to get a padded encoding.\n",
      "You're using a BertTokenizerFast tokenizer. Please note that with a fast tokenizer, using the `__call__` method is faster than using a method to encode the text followed by a call to the `pad` method to get a padded encoding.\n",
      "You're using a BertTokenizerFast tokenizer. Please note that with a fast tokenizer, using the `__call__` method is faster than using a method to encode the text followed by a call to the `pad` method to get a padded encoding.\n",
      "You're using a BertTokenizerFast tokenizer. Please note that with a fast tokenizer, using the `__call__` method is faster than using a method to encode the text followed by a call to the `pad` method to get a padded encoding.\n",
      "You're using a BertTokenizerFast tokenizer. Please note that with a fast tokenizer, using the `__call__` method is faster than using a method to encode the text followed by a call to the `pad` method to get a padded encoding.\n",
      "You're using a BertTokenizerFast tokenizer. Please note that with a fast tokenizer, using the `__call__` method is faster than using a method to encode the text followed by a call to the `pad` method to get a padded encoding.\n",
      "You're using a BertTokenizerFast tokenizer. Please note that with a fast tokenizer, using the `__call__` method is faster than using a method to encode the text followed by a call to the `pad` method to get a padded encoding.\n",
      "You're using a BertTokenizerFast tokenizer. Please note that with a fast tokenizer, using the `__call__` method is faster than using a method to encode the text followed by a call to the `pad` method to get a padded encoding.\n",
      "You're using a BertTokenizerFast tokenizer. Please note that with a fast tokenizer, using the `__call__` method is faster than using a method to encode the text followed by a call to the `pad` method to get a padded encoding.\n",
      "You're using a BertTokenizerFast tokenizer. Please note that with a fast tokenizer, using the `__call__` method is faster than using a method to encode the text followed by a call to the `pad` method to get a padded encoding.\n",
      "You're using a BertTokenizerFast tokenizer. Please note that with a fast tokenizer, using the `__call__` method is faster than using a method to encode the text followed by a call to the `pad` method to get a padded encoding.\n",
      "You're using a BertTokenizerFast tokenizer. Please note that with a fast tokenizer, using the `__call__` method is faster than using a method to encode the text followed by a call to the `pad` method to get a padded encoding.\n",
      "You're using a BertTokenizerFast tokenizer. Please note that with a fast tokenizer, using the `__call__` method is faster than using a method to encode the text followed by a call to the `pad` method to get a padded encoding.\n",
      "You're using a BertTokenizerFast tokenizer. Please note that with a fast tokenizer, using the `__call__` method is faster than using a method to encode the text followed by a call to the `pad` method to get a padded encoding.\n",
      "You're using a BertTokenizerFast tokenizer. Please note that with a fast tokenizer, using the `__call__` method is faster than using a method to encode the text followed by a call to the `pad` method to get a padded encoding.\n",
      "You're using a BertTokenizerFast tokenizer. Please note that with a fast tokenizer, using the `__call__` method is faster than using a method to encode the text followed by a call to the `pad` method to get a padded encoding.\n",
      "You're using a BertTokenizerFast tokenizer. Please note that with a fast tokenizer, using the `__call__` method is faster than using a method to encode the text followed by a call to the `pad` method to get a padded encoding.\n",
      "You're using a BertTokenizerFast tokenizer. Please note that with a fast tokenizer, using the `__call__` method is faster than using a method to encode the text followed by a call to the `pad` method to get a padded encoding.\n",
      "You're using a BertTokenizerFast tokenizer. Please note that with a fast tokenizer, using the `__call__` method is faster than using a method to encode the text followed by a call to the `pad` method to get a padded encoding.\n",
      "You're using a BertTokenizerFast tokenizer. Please note that with a fast tokenizer, using the `__call__` method is faster than using a method to encode the text followed by a call to the `pad` method to get a padded encoding.\n",
      "You're using a BertTokenizerFast tokenizer. Please note that with a fast tokenizer, using the `__call__` method is faster than using a method to encode the text followed by a call to the `pad` method to get a padded encoding.\n",
      "You're using a BertTokenizerFast tokenizer. Please note that with a fast tokenizer, using the `__call__` method is faster than using a method to encode the text followed by a call to the `pad` method to get a padded encoding.\n",
      "You're using a BertTokenizerFast tokenizer. Please note that with a fast tokenizer, using the `__call__` method is faster than using a method to encode the text followed by a call to the `pad` method to get a padded encoding.\n",
      "You're using a BertTokenizerFast tokenizer. Please note that with a fast tokenizer, using the `__call__` method is faster than using a method to encode the text followed by a call to the `pad` method to get a padded encoding.\n",
      "You're using a BertTokenizerFast tokenizer. Please note that with a fast tokenizer, using the `__call__` method is faster than using a method to encode the text followed by a call to the `pad` method to get a padded encoding.\n",
      "You're using a BertTokenizerFast tokenizer. Please note that with a fast tokenizer, using the `__call__` method is faster than using a method to encode the text followed by a call to the `pad` method to get a padded encoding.\n",
      "You're using a BertTokenizerFast tokenizer. Please note that with a fast tokenizer, using the `__call__` method is faster than using a method to encode the text followed by a call to the `pad` method to get a padded encoding.\n",
      "You're using a BertTokenizerFast tokenizer. Please note that with a fast tokenizer, using the `__call__` method is faster than using a method to encode the text followed by a call to the `pad` method to get a padded encoding.\n",
      "You're using a BertTokenizerFast tokenizer. Please note that with a fast tokenizer, using the `__call__` method is faster than using a method to encode the text followed by a call to the `pad` method to get a padded encoding.\n",
      "You're using a BertTokenizerFast tokenizer. Please note that with a fast tokenizer, using the `__call__` method is faster than using a method to encode the text followed by a call to the `pad` method to get a padded encoding.\n",
      "You're using a BertTokenizerFast tokenizer. Please note that with a fast tokenizer, using the `__call__` method is faster than using a method to encode the text followed by a call to the `pad` method to get a padded encoding.\n",
      "You're using a BertTokenizerFast tokenizer. Please note that with a fast tokenizer, using the `__call__` method is faster than using a method to encode the text followed by a call to the `pad` method to get a padded encoding.\n",
      "You're using a BertTokenizerFast tokenizer. Please note that with a fast tokenizer, using the `__call__` method is faster than using a method to encode the text followed by a call to the `pad` method to get a padded encoding.\n",
      "You're using a BertTokenizerFast tokenizer. Please note that with a fast tokenizer, using the `__call__` method is faster than using a method to encode the text followed by a call to the `pad` method to get a padded encoding.\n",
      "You're using a BertTokenizerFast tokenizer. Please note that with a fast tokenizer, using the `__call__` method is faster than using a method to encode the text followed by a call to the `pad` method to get a padded encoding.\n",
      "You're using a BertTokenizerFast tokenizer. Please note that with a fast tokenizer, using the `__call__` method is faster than using a method to encode the text followed by a call to the `pad` method to get a padded encoding.\n",
      "You're using a BertTokenizerFast tokenizer. Please note that with a fast tokenizer, using the `__call__` method is faster than using a method to encode the text followed by a call to the `pad` method to get a padded encoding.\n",
      "You're using a BertTokenizerFast tokenizer. Please note that with a fast tokenizer, using the `__call__` method is faster than using a method to encode the text followed by a call to the `pad` method to get a padded encoding.\n",
      "You're using a BertTokenizerFast tokenizer. Please note that with a fast tokenizer, using the `__call__` method is faster than using a method to encode the text followed by a call to the `pad` method to get a padded encoding.\n",
      "You're using a BertTokenizerFast tokenizer. Please note that with a fast tokenizer, using the `__call__` method is faster than using a method to encode the text followed by a call to the `pad` method to get a padded encoding.\n",
      "You're using a BertTokenizerFast tokenizer. Please note that with a fast tokenizer, using the `__call__` method is faster than using a method to encode the text followed by a call to the `pad` method to get a padded encoding.\n",
      "You're using a BertTokenizerFast tokenizer. Please note that with a fast tokenizer, using the `__call__` method is faster than using a method to encode the text followed by a call to the `pad` method to get a padded encoding.\n",
      "You're using a BertTokenizerFast tokenizer. Please note that with a fast tokenizer, using the `__call__` method is faster than using a method to encode the text followed by a call to the `pad` method to get a padded encoding.\n",
      "You're using a BertTokenizerFast tokenizer. Please note that with a fast tokenizer, using the `__call__` method is faster than using a method to encode the text followed by a call to the `pad` method to get a padded encoding.\n",
      "You're using a BertTokenizerFast tokenizer. Please note that with a fast tokenizer, using the `__call__` method is faster than using a method to encode the text followed by a call to the `pad` method to get a padded encoding.\n",
      "You're using a BertTokenizerFast tokenizer. Please note that with a fast tokenizer, using the `__call__` method is faster than using a method to encode the text followed by a call to the `pad` method to get a padded encoding.\n",
      "You're using a BertTokenizerFast tokenizer. Please note that with a fast tokenizer, using the `__call__` method is faster than using a method to encode the text followed by a call to the `pad` method to get a padded encoding.\n",
      "You're using a BertTokenizerFast tokenizer. Please note that with a fast tokenizer, using the `__call__` method is faster than using a method to encode the text followed by a call to the `pad` method to get a padded encoding.\n",
      "You're using a BertTokenizerFast tokenizer. Please note that with a fast tokenizer, using the `__call__` method is faster than using a method to encode the text followed by a call to the `pad` method to get a padded encoding.\n",
      "You're using a BertTokenizerFast tokenizer. Please note that with a fast tokenizer, using the `__call__` method is faster than using a method to encode the text followed by a call to the `pad` method to get a padded encoding.\n",
      "You're using a BertTokenizerFast tokenizer. Please note that with a fast tokenizer, using the `__call__` method is faster than using a method to encode the text followed by a call to the `pad` method to get a padded encoding.\n",
      "You're using a BertTokenizerFast tokenizer. Please note that with a fast tokenizer, using the `__call__` method is faster than using a method to encode the text followed by a call to the `pad` method to get a padded encoding.\n",
      "You're using a BertTokenizerFast tokenizer. Please note that with a fast tokenizer, using the `__call__` method is faster than using a method to encode the text followed by a call to the `pad` method to get a padded encoding.\n",
      "You're using a BertTokenizerFast tokenizer. Please note that with a fast tokenizer, using the `__call__` method is faster than using a method to encode the text followed by a call to the `pad` method to get a padded encoding.\n",
      "You're using a BertTokenizerFast tokenizer. Please note that with a fast tokenizer, using the `__call__` method is faster than using a method to encode the text followed by a call to the `pad` method to get a padded encoding.\n",
      "You're using a BertTokenizerFast tokenizer. Please note that with a fast tokenizer, using the `__call__` method is faster than using a method to encode the text followed by a call to the `pad` method to get a padded encoding.\n",
      "You're using a BertTokenizerFast tokenizer. Please note that with a fast tokenizer, using the `__call__` method is faster than using a method to encode the text followed by a call to the `pad` method to get a padded encoding.\n",
      "You're using a BertTokenizerFast tokenizer. Please note that with a fast tokenizer, using the `__call__` method is faster than using a method to encode the text followed by a call to the `pad` method to get a padded encoding.\n",
      "You're using a BertTokenizerFast tokenizer. Please note that with a fast tokenizer, using the `__call__` method is faster than using a method to encode the text followed by a call to the `pad` method to get a padded encoding.\n",
      "You're using a BertTokenizerFast tokenizer. Please note that with a fast tokenizer, using the `__call__` method is faster than using a method to encode the text followed by a call to the `pad` method to get a padded encoding.\n",
      "You're using a BertTokenizerFast tokenizer. Please note that with a fast tokenizer, using the `__call__` method is faster than using a method to encode the text followed by a call to the `pad` method to get a padded encoding.\n",
      "Compiling Model...\n",
      "Graph compilation: 100%|██████████| 100/100 [00:11<00:00]\n",
      "Compiled/Loaded model in 26.20777691155672 secs\n",
      "***** Running training *****\n",
      "  Num examples = 18761\n",
      "  Num epochs = 10\n",
      "  Instantaneous batch size per device = 1\n",
      "  Total training batch size (w. parallel, distributed & accumulation) = 64\n",
      "  Gradient accumulation steps = 64\n",
      "  Total optimization steps = 2930\n"
     ]
    },
    {
     "data": {
      "application/vnd.jupyter.widget-view+json": {
       "model_id": "f939044a8d0246cabe230db637317e34",
       "version_major": 2,
       "version_minor": 0
      },
      "text/plain": [
       "  0%|          | 0/2930 [00:00<?, ?it/s]"
      ]
     },
     "metadata": {},
     "output_type": "display_data"
    },
    {
     "name": "stdout",
     "output_type": "stream",
     "text": [
      "{'loss': 10.1508, 'learning_rate': 6.825938566552902e-07, 'epoch': 0.03}\n",
      "{'loss': 9.9695, 'learning_rate': 1.3651877133105804e-06, 'epoch': 0.07}\n",
      "{'loss': 9.8, 'learning_rate': 2.0477815699658705e-06, 'epoch': 0.1}\n",
      "{'loss': 9.7805, 'learning_rate': 2.7303754266211608e-06, 'epoch': 0.14}\n",
      "{'loss': 9.7844, 'learning_rate': 3.412969283276451e-06, 'epoch': 0.17}\n",
      "{'loss': 9.5734, 'learning_rate': 4.095563139931741e-06, 'epoch': 0.2}\n",
      "{'loss': 9.5633, 'learning_rate': 4.778156996587031e-06, 'epoch': 0.24}\n",
      "{'loss': 9.2664, 'learning_rate': 5.4607508532423215e-06, 'epoch': 0.27}\n",
      "{'loss': 9.3281, 'learning_rate': 6.143344709897611e-06, 'epoch': 0.31}\n",
      "{'loss': 9.1023, 'learning_rate': 6.825938566552902e-06, 'epoch': 0.34}\n",
      "{'loss': 9.2648, 'learning_rate': 7.508532423208191e-06, 'epoch': 0.38}\n",
      "{'loss': 9.0184, 'learning_rate': 8.191126279863482e-06, 'epoch': 0.41}\n",
      "{'loss': 8.9555, 'learning_rate': 8.873720136518773e-06, 'epoch': 0.44}\n",
      "{'loss': 9.2836, 'learning_rate': 9.556313993174062e-06, 'epoch': 0.48}\n",
      "{'loss': 8.7531, 'learning_rate': 1.0238907849829352e-05, 'epoch': 0.51}\n",
      "{'loss': 8.5668, 'learning_rate': 1.0921501706484643e-05, 'epoch': 0.55}\n",
      "{'loss': 8.8723, 'learning_rate': 1.1604095563139932e-05, 'epoch': 0.58}\n",
      "{'loss': 8.607, 'learning_rate': 1.2286689419795223e-05, 'epoch': 0.61}\n",
      "{'loss': 8.8121, 'learning_rate': 1.2969283276450513e-05, 'epoch': 0.65}\n",
      "{'loss': 8.5188, 'learning_rate': 1.3651877133105804e-05, 'epoch': 0.68}\n",
      "{'loss': 8.3164, 'learning_rate': 1.4334470989761093e-05, 'epoch': 0.72}\n",
      "{'loss': 8.359, 'learning_rate': 1.5017064846416382e-05, 'epoch': 0.75}\n",
      "{'loss': 8.5465, 'learning_rate': 1.5699658703071675e-05, 'epoch': 0.78}\n",
      "{'loss': 8.102, 'learning_rate': 1.6382252559726964e-05, 'epoch': 0.82}\n",
      "{'loss': 8.0875, 'learning_rate': 1.7064846416382256e-05, 'epoch': 0.85}\n",
      "{'loss': 7.8641, 'learning_rate': 1.7747440273037545e-05, 'epoch': 0.89}\n",
      "{'loss': 8.0426, 'learning_rate': 1.8430034129692834e-05, 'epoch': 0.92}\n",
      "{'loss': 7.793, 'learning_rate': 1.9112627986348123e-05, 'epoch': 0.96}\n",
      "{'loss': 7.6098, 'learning_rate': 1.9795221843003412e-05, 'epoch': 0.99}\n",
      "{'loss': 7.7023, 'learning_rate': 1.994690936670459e-05, 'epoch': 1.02}\n",
      "{'loss': 7.9918, 'learning_rate': 1.9871065604854004e-05, 'epoch': 1.06}\n",
      "{'loss': 7.3988, 'learning_rate': 1.9795221843003412e-05, 'epoch': 1.09}\n",
      "{'loss': 7.4559, 'learning_rate': 1.9719378081152827e-05, 'epoch': 1.13}\n",
      "{'loss': 7.5852, 'learning_rate': 1.964353431930224e-05, 'epoch': 1.16}\n",
      "{'loss': 7.4324, 'learning_rate': 1.956769055745165e-05, 'epoch': 1.19}\n",
      "{'loss': 7.266, 'learning_rate': 1.9491846795601064e-05, 'epoch': 1.23}\n",
      "{'loss': 7.25, 'learning_rate': 1.9416003033750475e-05, 'epoch': 1.26}\n",
      "{'loss': 7.9797, 'learning_rate': 1.9340159271899886e-05, 'epoch': 1.3}\n",
      "{'loss': 7.6797, 'learning_rate': 1.92643155100493e-05, 'epoch': 1.33}\n",
      "{'loss': 7.5496, 'learning_rate': 1.9188471748198712e-05, 'epoch': 1.37}\n",
      "{'loss': 7.9086, 'learning_rate': 1.9112627986348123e-05, 'epoch': 1.4}\n",
      "{'loss': 7.0559, 'learning_rate': 1.9036784224497538e-05, 'epoch': 1.43}\n",
      "{'loss': 7.2727, 'learning_rate': 1.896094046264695e-05, 'epoch': 1.47}\n",
      "{'loss': 7.1266, 'learning_rate': 1.888509670079636e-05, 'epoch': 1.5}\n",
      "{'loss': 6.7828, 'learning_rate': 1.880925293894577e-05, 'epoch': 1.54}\n",
      "{'loss': 7.5723, 'learning_rate': 1.8733409177095186e-05, 'epoch': 1.57}\n",
      "{'loss': 7.6086, 'learning_rate': 1.8657565415244597e-05, 'epoch': 1.6}\n",
      "{'loss': 7.6152, 'learning_rate': 1.858172165339401e-05, 'epoch': 1.64}\n",
      "{'loss': 6.8418, 'learning_rate': 1.8505877891543423e-05, 'epoch': 1.67}\n"
     ]
    },
    {
     "name": "stderr",
     "output_type": "stream",
     "text": [
      "Saving model checkpoint to bert-base-cased-wikitext2-test-mlm/checkpoint-500\n"
     ]
    },
    {
     "name": "stdout",
     "output_type": "stream",
     "text": [
      "{'loss': 7.3082, 'learning_rate': 1.8430034129692834e-05, 'epoch': 1.71}\n"
     ]
    },
    {
     "name": "stderr",
     "output_type": "stream",
     "text": [
      "/opt/pytorch/lib/python3.8/site-packages/torch/nn/modules/module.py:1802: UserWarning: Positional args are being deprecated, use kwargs instead. Refer to https://pytorch.org/docs/master/generated/torch.nn.Module.html#torch.nn.Module.state_dict for details.\n",
      "  warnings.warn(\n",
      "-------------------- Device Allocation --------------------\n",
      "Embedding  --> IPU 0\n",
      "Encoder 0  --> IPU 1\n",
      "Encoder 1  --> IPU 1\n",
      "Encoder 2  --> IPU 1\n",
      "Encoder 3  --> IPU 1\n",
      "Encoder 4  --> IPU 2\n",
      "Encoder 5  --> IPU 2\n",
      "Encoder 6  --> IPU 2\n",
      "Encoder 7  --> IPU 2\n",
      "Encoder 8  --> IPU 3\n",
      "Encoder 9  --> IPU 3\n",
      "Encoder 10 --> IPU 3\n",
      "Encoder 11 --> IPU 3\n",
      "Classifier --> IPU 0\n",
      "-----------------------------------------------------------\n",
      "Configuration saved in bert-base-cased-wikitext2-test-mlm/checkpoint-500/ipu_config.json\n"
     ]
    },
    {
     "name": "stdout",
     "output_type": "stream",
     "text": [
      "{'loss': 7.1047, 'learning_rate': 1.8354190367842245e-05, 'epoch': 1.74}\n",
      "{'loss': 7.6059, 'learning_rate': 1.827834660599166e-05, 'epoch': 1.77}\n",
      "{'loss': 7.3566, 'learning_rate': 1.820250284414107e-05, 'epoch': 1.81}\n",
      "{'loss': 6.6348, 'learning_rate': 1.8126659082290482e-05, 'epoch': 1.84}\n",
      "{'loss': 7.4977, 'learning_rate': 1.8050815320439897e-05, 'epoch': 1.88}\n",
      "{'loss': 7.3086, 'learning_rate': 1.7974971558589308e-05, 'epoch': 1.91}\n",
      "{'loss': 6.8828, 'learning_rate': 1.789912779673872e-05, 'epoch': 1.95}\n",
      "{'loss': 7.5281, 'learning_rate': 1.782328403488813e-05, 'epoch': 1.98}\n",
      "{'loss': 7.1922, 'learning_rate': 1.7747440273037545e-05, 'epoch': 2.01}\n",
      "{'loss': 7.1633, 'learning_rate': 1.7671596511186956e-05, 'epoch': 2.05}\n",
      "{'loss': 6.9426, 'learning_rate': 1.7595752749336368e-05, 'epoch': 2.08}\n",
      "{'loss': 7.3242, 'learning_rate': 1.7519908987485782e-05, 'epoch': 2.12}\n",
      "{'loss': 7.1488, 'learning_rate': 1.7444065225635193e-05, 'epoch': 2.15}\n",
      "{'loss': 7.0549, 'learning_rate': 1.7368221463784605e-05, 'epoch': 2.18}\n",
      "{'loss': 7.5035, 'learning_rate': 1.729237770193402e-05, 'epoch': 2.22}\n",
      "{'loss': 7.1383, 'learning_rate': 1.7216533940083427e-05, 'epoch': 2.25}\n",
      "{'loss': 7.2875, 'learning_rate': 1.714069017823284e-05, 'epoch': 2.29}\n",
      "{'loss': 7.0687, 'learning_rate': 1.7064846416382256e-05, 'epoch': 2.32}\n",
      "{'loss': 6.7719, 'learning_rate': 1.6989002654531664e-05, 'epoch': 2.35}\n",
      "{'loss': 6.8512, 'learning_rate': 1.691315889268108e-05, 'epoch': 2.39}\n",
      "{'loss': 7.3238, 'learning_rate': 1.6837315130830493e-05, 'epoch': 2.42}\n",
      "{'loss': 6.9457, 'learning_rate': 1.67614713689799e-05, 'epoch': 2.46}\n",
      "{'loss': 6.8746, 'learning_rate': 1.6685627607129316e-05, 'epoch': 2.49}\n",
      "{'loss': 7.4324, 'learning_rate': 1.6609783845278727e-05, 'epoch': 2.53}\n",
      "{'loss': 7.4879, 'learning_rate': 1.6533940083428138e-05, 'epoch': 2.56}\n",
      "{'loss': 6.9902, 'learning_rate': 1.6458096321577553e-05, 'epoch': 2.59}\n",
      "{'loss': 7.1188, 'learning_rate': 1.6382252559726964e-05, 'epoch': 2.63}\n",
      "{'loss': 6.7234, 'learning_rate': 1.6306408797876375e-05, 'epoch': 2.66}\n",
      "{'loss': 6.9688, 'learning_rate': 1.6230565036025786e-05, 'epoch': 2.7}\n",
      "{'loss': 7.075, 'learning_rate': 1.61547212741752e-05, 'epoch': 2.73}\n",
      "{'loss': 7.0352, 'learning_rate': 1.6078877512324612e-05, 'epoch': 2.76}\n",
      "{'loss': 7.1918, 'learning_rate': 1.6003033750474023e-05, 'epoch': 2.8}\n",
      "{'loss': 7.109, 'learning_rate': 1.5927189988623438e-05, 'epoch': 2.83}\n",
      "{'loss': 7.2172, 'learning_rate': 1.585134622677285e-05, 'epoch': 2.87}\n",
      "{'loss': 7.2785, 'learning_rate': 1.577550246492226e-05, 'epoch': 2.9}\n",
      "{'loss': 7.0105, 'learning_rate': 1.5699658703071675e-05, 'epoch': 2.94}\n",
      "{'loss': 7.307, 'learning_rate': 1.5623814941221086e-05, 'epoch': 2.97}\n",
      "{'loss': 7.2953, 'learning_rate': 1.5547971179370497e-05, 'epoch': 3.0}\n",
      "{'loss': 6.6926, 'learning_rate': 1.547212741751991e-05, 'epoch': 3.04}\n",
      "{'loss': 7.0531, 'learning_rate': 1.5396283655669323e-05, 'epoch': 3.07}\n",
      "{'loss': 6.907, 'learning_rate': 1.5320439893818734e-05, 'epoch': 3.11}\n",
      "{'loss': 7.2352, 'learning_rate': 1.5244596131968149e-05, 'epoch': 3.14}\n",
      "{'loss': 6.884, 'learning_rate': 1.5168752370117558e-05, 'epoch': 3.17}\n",
      "{'loss': 7.0535, 'learning_rate': 1.5092908608266971e-05, 'epoch': 3.21}\n",
      "{'loss': 7.2387, 'learning_rate': 1.5017064846416382e-05, 'epoch': 3.24}\n",
      "{'loss': 6.8613, 'learning_rate': 1.4941221084565795e-05, 'epoch': 3.28}\n",
      "{'loss': 6.6719, 'learning_rate': 1.4865377322715208e-05, 'epoch': 3.31}\n",
      "{'loss': 6.8637, 'learning_rate': 1.478953356086462e-05, 'epoch': 3.34}\n",
      "{'loss': 7.1492, 'learning_rate': 1.4713689799014032e-05, 'epoch': 3.38}\n"
     ]
    },
    {
     "name": "stderr",
     "output_type": "stream",
     "text": [
      "Saving model checkpoint to bert-base-cased-wikitext2-test-mlm/checkpoint-1000\n"
     ]
    },
    {
     "name": "stdout",
     "output_type": "stream",
     "text": [
      "{'loss': 7.3633, 'learning_rate': 1.4637846037163443e-05, 'epoch': 3.41}\n"
     ]
    },
    {
     "name": "stderr",
     "output_type": "stream",
     "text": [
      "/opt/pytorch/lib/python3.8/site-packages/torch/nn/modules/module.py:1802: UserWarning: Positional args are being deprecated, use kwargs instead. Refer to https://pytorch.org/docs/master/generated/torch.nn.Module.html#torch.nn.Module.state_dict for details.\n",
      "  warnings.warn(\n",
      "-------------------- Device Allocation --------------------\n",
      "Embedding  --> IPU 0\n",
      "Encoder 0  --> IPU 1\n",
      "Encoder 1  --> IPU 1\n",
      "Encoder 2  --> IPU 1\n",
      "Encoder 3  --> IPU 1\n",
      "Encoder 4  --> IPU 2\n",
      "Encoder 5  --> IPU 2\n",
      "Encoder 6  --> IPU 2\n",
      "Encoder 7  --> IPU 2\n",
      "Encoder 8  --> IPU 3\n",
      "Encoder 9  --> IPU 3\n",
      "Encoder 10 --> IPU 3\n",
      "Encoder 11 --> IPU 3\n",
      "Classifier --> IPU 0\n",
      "-----------------------------------------------------------\n",
      "Configuration saved in bert-base-cased-wikitext2-test-mlm/checkpoint-1000/ipu_config.json\n"
     ]
    },
    {
     "name": "stdout",
     "output_type": "stream",
     "text": [
      "{'loss': 6.5918, 'learning_rate': 1.4562002275312856e-05, 'epoch': 3.45}\n",
      "{'loss': 6.9902, 'learning_rate': 1.4486158513462269e-05, 'epoch': 3.48}\n",
      "{'loss': 7.0469, 'learning_rate': 1.441031475161168e-05, 'epoch': 3.52}\n",
      "{'loss': 6.5711, 'learning_rate': 1.4334470989761093e-05, 'epoch': 3.55}\n",
      "{'loss': 6.6801, 'learning_rate': 1.4258627227910506e-05, 'epoch': 3.58}\n",
      "{'loss': 6.8258, 'learning_rate': 1.4182783466059917e-05, 'epoch': 3.62}\n",
      "{'loss': 7.1676, 'learning_rate': 1.410693970420933e-05, 'epoch': 3.65}\n",
      "{'loss': 6.7625, 'learning_rate': 1.4031095942358741e-05, 'epoch': 3.69}\n",
      "{'loss': 6.9035, 'learning_rate': 1.3955252180508154e-05, 'epoch': 3.72}\n",
      "{'loss': 6.9738, 'learning_rate': 1.3879408418657567e-05, 'epoch': 3.75}\n",
      "{'loss': 6.8918, 'learning_rate': 1.3803564656806978e-05, 'epoch': 3.79}\n",
      "{'loss': 6.7277, 'learning_rate': 1.3727720894956391e-05, 'epoch': 3.82}\n",
      "{'loss': 6.5203, 'learning_rate': 1.3651877133105804e-05, 'epoch': 3.86}\n",
      "{'loss': 7.123, 'learning_rate': 1.3576033371255215e-05, 'epoch': 3.89}\n",
      "{'loss': 7.2383, 'learning_rate': 1.3500189609404628e-05, 'epoch': 3.92}\n",
      "{'loss': 7.259, 'learning_rate': 1.342434584755404e-05, 'epoch': 3.96}\n",
      "{'loss': 6.5906, 'learning_rate': 1.3348502085703452e-05, 'epoch': 3.99}\n",
      "{'loss': 6.8129, 'learning_rate': 1.3272658323852865e-05, 'epoch': 4.03}\n",
      "{'loss': 7.5016, 'learning_rate': 1.3196814562002277e-05, 'epoch': 4.06}\n",
      "{'loss': 7.7238, 'learning_rate': 1.312097080015169e-05, 'epoch': 4.1}\n",
      "{'loss': 6.9762, 'learning_rate': 1.3045127038301099e-05, 'epoch': 4.13}\n",
      "{'loss': 6.7957, 'learning_rate': 1.2969283276450513e-05, 'epoch': 4.16}\n",
      "{'loss': 7.3336, 'learning_rate': 1.2893439514599926e-05, 'epoch': 4.2}\n",
      "{'loss': 6.5855, 'learning_rate': 1.2817595752749336e-05, 'epoch': 4.23}\n",
      "{'loss': 6.6613, 'learning_rate': 1.274175199089875e-05, 'epoch': 4.27}\n",
      "{'loss': 6.9871, 'learning_rate': 1.2665908229048163e-05, 'epoch': 4.3}\n",
      "{'loss': 6.7082, 'learning_rate': 1.2590064467197573e-05, 'epoch': 4.33}\n",
      "{'loss': 7.1312, 'learning_rate': 1.2514220705346986e-05, 'epoch': 4.37}\n",
      "{'loss': 6.9285, 'learning_rate': 1.2438376943496397e-05, 'epoch': 4.4}\n",
      "{'loss': 7.3277, 'learning_rate': 1.236253318164581e-05, 'epoch': 4.44}\n",
      "{'loss': 6.9039, 'learning_rate': 1.2286689419795223e-05, 'epoch': 4.47}\n",
      "{'loss': 7.1828, 'learning_rate': 1.2210845657944634e-05, 'epoch': 4.51}\n",
      "{'loss': 7.0078, 'learning_rate': 1.2135001896094047e-05, 'epoch': 4.54}\n",
      "{'loss': 7.127, 'learning_rate': 1.205915813424346e-05, 'epoch': 4.57}\n",
      "{'loss': 7.0676, 'learning_rate': 1.1983314372392871e-05, 'epoch': 4.61}\n",
      "{'loss': 7.2504, 'learning_rate': 1.1907470610542284e-05, 'epoch': 4.64}\n",
      "{'loss': 6.5246, 'learning_rate': 1.1831626848691695e-05, 'epoch': 4.68}\n",
      "{'loss': 6.8293, 'learning_rate': 1.1755783086841108e-05, 'epoch': 4.71}\n",
      "{'loss': 6.959, 'learning_rate': 1.1679939324990521e-05, 'epoch': 4.74}\n",
      "{'loss': 7.0902, 'learning_rate': 1.1604095563139932e-05, 'epoch': 4.78}\n",
      "{'loss': 6.8863, 'learning_rate': 1.1528251801289345e-05, 'epoch': 4.81}\n",
      "{'loss': 6.6461, 'learning_rate': 1.1452408039438756e-05, 'epoch': 4.85}\n",
      "{'loss': 6.9215, 'learning_rate': 1.1376564277588169e-05, 'epoch': 4.88}\n",
      "{'loss': 7.1836, 'learning_rate': 1.1300720515737582e-05, 'epoch': 4.91}\n",
      "{'loss': 6.523, 'learning_rate': 1.1224876753886993e-05, 'epoch': 4.95}\n",
      "{'loss': 7.1211, 'learning_rate': 1.1149032992036406e-05, 'epoch': 4.98}\n",
      "{'loss': 7.116, 'learning_rate': 1.1073189230185819e-05, 'epoch': 5.02}\n",
      "{'loss': 6.9559, 'learning_rate': 1.099734546833523e-05, 'epoch': 5.05}\n",
      "{'loss': 6.952, 'learning_rate': 1.0921501706484643e-05, 'epoch': 5.09}\n"
     ]
    },
    {
     "name": "stderr",
     "output_type": "stream",
     "text": [
      "Saving model checkpoint to bert-base-cased-wikitext2-test-mlm/checkpoint-1500\n"
     ]
    },
    {
     "name": "stdout",
     "output_type": "stream",
     "text": [
      "{'loss': 7.2738, 'learning_rate': 1.0845657944634054e-05, 'epoch': 5.12}\n"
     ]
    },
    {
     "name": "stderr",
     "output_type": "stream",
     "text": [
      "/opt/pytorch/lib/python3.8/site-packages/torch/nn/modules/module.py:1802: UserWarning: Positional args are being deprecated, use kwargs instead. Refer to https://pytorch.org/docs/master/generated/torch.nn.Module.html#torch.nn.Module.state_dict for details.\n",
      "  warnings.warn(\n",
      "-------------------- Device Allocation --------------------\n",
      "Embedding  --> IPU 0\n",
      "Encoder 0  --> IPU 1\n",
      "Encoder 1  --> IPU 1\n",
      "Encoder 2  --> IPU 1\n",
      "Encoder 3  --> IPU 1\n",
      "Encoder 4  --> IPU 2\n",
      "Encoder 5  --> IPU 2\n",
      "Encoder 6  --> IPU 2\n",
      "Encoder 7  --> IPU 2\n",
      "Encoder 8  --> IPU 3\n",
      "Encoder 9  --> IPU 3\n",
      "Encoder 10 --> IPU 3\n",
      "Encoder 11 --> IPU 3\n",
      "Classifier --> IPU 0\n",
      "-----------------------------------------------------------\n",
      "Configuration saved in bert-base-cased-wikitext2-test-mlm/checkpoint-1500/ipu_config.json\n"
     ]
    },
    {
     "name": "stdout",
     "output_type": "stream",
     "text": [
      "{'loss': 6.5547, 'learning_rate': 1.0769814182783467e-05, 'epoch': 5.15}\n",
      "{'loss': 7.8496, 'learning_rate': 1.069397042093288e-05, 'epoch': 5.19}\n",
      "{'loss': 6.6168, 'learning_rate': 1.0618126659082291e-05, 'epoch': 5.22}\n",
      "{'loss': 7.2145, 'learning_rate': 1.0542282897231704e-05, 'epoch': 5.26}\n",
      "{'loss': 6.7852, 'learning_rate': 1.0466439135381117e-05, 'epoch': 5.29}\n",
      "{'loss': 6.4328, 'learning_rate': 1.0390595373530528e-05, 'epoch': 5.32}\n",
      "{'loss': 6.9766, 'learning_rate': 1.0314751611679941e-05, 'epoch': 5.36}\n",
      "{'loss': 6.7152, 'learning_rate': 1.0238907849829352e-05, 'epoch': 5.39}\n",
      "{'loss': 6.4781, 'learning_rate': 1.0163064087978765e-05, 'epoch': 5.43}\n",
      "{'loss': 7.1348, 'learning_rate': 1.0087220326128178e-05, 'epoch': 5.46}\n",
      "{'loss': 7.0094, 'learning_rate': 1.0011376564277588e-05, 'epoch': 5.49}\n",
      "{'loss': 6.948, 'learning_rate': 9.935532802427002e-06, 'epoch': 5.53}\n",
      "{'loss': 7.1437, 'learning_rate': 9.859689040576413e-06, 'epoch': 5.56}\n",
      "{'loss': 6.8359, 'learning_rate': 9.783845278725825e-06, 'epoch': 5.6}\n",
      "{'loss': 6.7406, 'learning_rate': 9.708001516875238e-06, 'epoch': 5.63}\n",
      "{'loss': 7.1398, 'learning_rate': 9.63215775502465e-06, 'epoch': 5.67}\n",
      "{'loss': 6.5727, 'learning_rate': 9.556313993174062e-06, 'epoch': 5.7}\n",
      "{'loss': 7.2164, 'learning_rate': 9.480470231323474e-06, 'epoch': 5.73}\n",
      "{'loss': 6.7773, 'learning_rate': 9.404626469472886e-06, 'epoch': 5.77}\n",
      "{'loss': 6.8594, 'learning_rate': 9.328782707622299e-06, 'epoch': 5.8}\n",
      "{'loss': 7.1594, 'learning_rate': 9.252938945771711e-06, 'epoch': 5.84}\n",
      "{'loss': 6.9637, 'learning_rate': 9.177095183921123e-06, 'epoch': 5.87}\n",
      "{'loss': 6.7141, 'learning_rate': 9.101251422070536e-06, 'epoch': 5.9}\n",
      "{'loss': 6.793, 'learning_rate': 9.025407660219948e-06, 'epoch': 5.94}\n",
      "{'loss': 7.3305, 'learning_rate': 8.94956389836936e-06, 'epoch': 5.97}\n",
      "{'loss': 6.8344, 'learning_rate': 8.873720136518773e-06, 'epoch': 6.01}\n",
      "{'loss': 7.0074, 'learning_rate': 8.797876374668184e-06, 'epoch': 6.04}\n",
      "{'loss': 6.832, 'learning_rate': 8.722032612817597e-06, 'epoch': 6.08}\n",
      "{'loss': 7.0258, 'learning_rate': 8.64618885096701e-06, 'epoch': 6.11}\n",
      "{'loss': 6.9984, 'learning_rate': 8.57034508911642e-06, 'epoch': 6.14}\n",
      "{'loss': 7.1969, 'learning_rate': 8.494501327265832e-06, 'epoch': 6.18}\n",
      "{'loss': 6.7836, 'learning_rate': 8.418657565415247e-06, 'epoch': 6.21}\n",
      "{'loss': 7.0609, 'learning_rate': 8.342813803564658e-06, 'epoch': 6.25}\n",
      "{'loss': 6.9965, 'learning_rate': 8.266970041714069e-06, 'epoch': 6.28}\n",
      "{'loss': 6.757, 'learning_rate': 8.191126279863482e-06, 'epoch': 6.31}\n",
      "{'loss': 6.5293, 'learning_rate': 8.115282518012893e-06, 'epoch': 6.35}\n",
      "{'loss': 6.6453, 'learning_rate': 8.039438756162306e-06, 'epoch': 6.38}\n",
      "{'loss': 7.0332, 'learning_rate': 7.963594994311719e-06, 'epoch': 6.42}\n",
      "{'loss': 6.9113, 'learning_rate': 7.88775123246113e-06, 'epoch': 6.45}\n",
      "{'loss': 7.1242, 'learning_rate': 7.811907470610543e-06, 'epoch': 6.48}\n",
      "{'loss': 6.8633, 'learning_rate': 7.736063708759956e-06, 'epoch': 6.52}\n",
      "{'loss': 6.5629, 'learning_rate': 7.660219946909367e-06, 'epoch': 6.55}\n",
      "{'loss': 7.0473, 'learning_rate': 7.584376185058779e-06, 'epoch': 6.59}\n",
      "{'loss': 6.8645, 'learning_rate': 7.508532423208191e-06, 'epoch': 6.62}\n",
      "{'loss': 6.691, 'learning_rate': 7.432688661357604e-06, 'epoch': 6.66}\n",
      "{'loss': 7.2883, 'learning_rate': 7.356844899507016e-06, 'epoch': 6.69}\n",
      "{'loss': 7.0277, 'learning_rate': 7.281001137656428e-06, 'epoch': 6.72}\n",
      "{'loss': 7.0539, 'learning_rate': 7.20515737580584e-06, 'epoch': 6.76}\n",
      "{'loss': 7.0352, 'learning_rate': 7.129313613955253e-06, 'epoch': 6.79}\n"
     ]
    },
    {
     "name": "stderr",
     "output_type": "stream",
     "text": [
      "Saving model checkpoint to bert-base-cased-wikitext2-test-mlm/checkpoint-2000\n"
     ]
    },
    {
     "name": "stdout",
     "output_type": "stream",
     "text": [
      "{'loss': 7.0633, 'learning_rate': 7.053469852104665e-06, 'epoch': 6.83}\n"
     ]
    },
    {
     "name": "stderr",
     "output_type": "stream",
     "text": [
      "/opt/pytorch/lib/python3.8/site-packages/torch/nn/modules/module.py:1802: UserWarning: Positional args are being deprecated, use kwargs instead. Refer to https://pytorch.org/docs/master/generated/torch.nn.Module.html#torch.nn.Module.state_dict for details.\n",
      "  warnings.warn(\n",
      "-------------------- Device Allocation --------------------\n",
      "Embedding  --> IPU 0\n",
      "Encoder 0  --> IPU 1\n",
      "Encoder 1  --> IPU 1\n",
      "Encoder 2  --> IPU 1\n",
      "Encoder 3  --> IPU 1\n",
      "Encoder 4  --> IPU 2\n",
      "Encoder 5  --> IPU 2\n",
      "Encoder 6  --> IPU 2\n",
      "Encoder 7  --> IPU 2\n",
      "Encoder 8  --> IPU 3\n",
      "Encoder 9  --> IPU 3\n",
      "Encoder 10 --> IPU 3\n",
      "Encoder 11 --> IPU 3\n",
      "Classifier --> IPU 0\n",
      "-----------------------------------------------------------\n",
      "Configuration saved in bert-base-cased-wikitext2-test-mlm/checkpoint-2000/ipu_config.json\n"
     ]
    },
    {
     "name": "stdout",
     "output_type": "stream",
     "text": [
      "{'loss': 7.2629, 'learning_rate': 6.977626090254077e-06, 'epoch': 6.86}\n",
      "{'loss': 7.091, 'learning_rate': 6.901782328403489e-06, 'epoch': 6.89}\n",
      "{'loss': 6.5539, 'learning_rate': 6.825938566552902e-06, 'epoch': 6.93}\n",
      "{'loss': 7.1129, 'learning_rate': 6.750094804702314e-06, 'epoch': 6.96}\n",
      "{'loss': 7.0457, 'learning_rate': 6.674251042851726e-06, 'epoch': 7.0}\n",
      "{'loss': 6.7781, 'learning_rate': 6.598407281001138e-06, 'epoch': 7.03}\n",
      "{'loss': 6.8355, 'learning_rate': 6.5225635191505495e-06, 'epoch': 7.06}\n",
      "{'loss': 6.3609, 'learning_rate': 6.446719757299963e-06, 'epoch': 7.1}\n",
      "{'loss': 7.0031, 'learning_rate': 6.370875995449375e-06, 'epoch': 7.13}\n",
      "{'loss': 6.8844, 'learning_rate': 6.2950322335987864e-06, 'epoch': 7.17}\n",
      "{'loss': 7.4488, 'learning_rate': 6.2191884717481985e-06, 'epoch': 7.2}\n",
      "{'loss': 6.9766, 'learning_rate': 6.143344709897611e-06, 'epoch': 7.24}\n",
      "{'loss': 6.5871, 'learning_rate': 6.0675009480470234e-06, 'epoch': 7.27}\n",
      "{'loss': 6.8508, 'learning_rate': 5.9916571861964355e-06, 'epoch': 7.3}\n",
      "{'loss': 6.8707, 'learning_rate': 5.9158134243458475e-06, 'epoch': 7.34}\n",
      "{'loss': 6.8441, 'learning_rate': 5.8399696624952604e-06, 'epoch': 7.37}\n",
      "{'loss': 6.6066, 'learning_rate': 5.7641259006446725e-06, 'epoch': 7.41}\n",
      "{'loss': 7.2207, 'learning_rate': 5.6882821387940845e-06, 'epoch': 7.44}\n",
      "{'loss': 6.6539, 'learning_rate': 5.6124383769434966e-06, 'epoch': 7.47}\n",
      "{'loss': 6.8426, 'learning_rate': 5.5365946150929095e-06, 'epoch': 7.51}\n",
      "{'loss': 7.0148, 'learning_rate': 5.4607508532423215e-06, 'epoch': 7.54}\n",
      "{'loss': 6.8059, 'learning_rate': 5.3849070913917336e-06, 'epoch': 7.58}\n",
      "{'loss': 7.1871, 'learning_rate': 5.309063329541146e-06, 'epoch': 7.61}\n",
      "{'loss': 6.9367, 'learning_rate': 5.2332195676905585e-06, 'epoch': 7.65}\n",
      "{'loss': 6.818, 'learning_rate': 5.1573758058399706e-06, 'epoch': 7.68}\n",
      "{'loss': 6.7891, 'learning_rate': 5.081532043989383e-06, 'epoch': 7.71}\n",
      "{'loss': 7.0527, 'learning_rate': 5.005688282138794e-06, 'epoch': 7.75}\n",
      "{'loss': 6.7926, 'learning_rate': 4.929844520288207e-06, 'epoch': 7.78}\n",
      "{'loss': 6.6398, 'learning_rate': 4.854000758437619e-06, 'epoch': 7.82}\n",
      "{'loss': 6.8379, 'learning_rate': 4.778156996587031e-06, 'epoch': 7.85}\n",
      "{'loss': 7.1363, 'learning_rate': 4.702313234736443e-06, 'epoch': 7.88}\n",
      "{'loss': 6.8352, 'learning_rate': 4.626469472885856e-06, 'epoch': 7.92}\n",
      "{'loss': 7.0703, 'learning_rate': 4.550625711035268e-06, 'epoch': 7.95}\n",
      "{'loss': 6.868, 'learning_rate': 4.47478194918468e-06, 'epoch': 7.99}\n",
      "{'loss': 6.6254, 'learning_rate': 4.398938187334092e-06, 'epoch': 8.02}\n",
      "{'loss': 7.1996, 'learning_rate': 4.323094425483505e-06, 'epoch': 8.05}\n",
      "{'loss': 7.2734, 'learning_rate': 4.247250663632916e-06, 'epoch': 8.09}\n",
      "{'loss': 6.6641, 'learning_rate': 4.171406901782329e-06, 'epoch': 8.12}\n",
      "{'loss': 6.9891, 'learning_rate': 4.095563139931741e-06, 'epoch': 8.16}\n",
      "{'loss': 6.6148, 'learning_rate': 4.019719378081153e-06, 'epoch': 8.19}\n",
      "{'loss': 6.6406, 'learning_rate': 3.943875616230565e-06, 'epoch': 8.23}\n",
      "{'loss': 7.0516, 'learning_rate': 3.868031854379978e-06, 'epoch': 8.26}\n",
      "{'loss': 6.6105, 'learning_rate': 3.7921880925293895e-06, 'epoch': 8.29}\n",
      "{'loss': 6.7871, 'learning_rate': 3.716344330678802e-06, 'epoch': 8.33}\n",
      "{'loss': 6.7598, 'learning_rate': 3.640500568828214e-06, 'epoch': 8.36}\n",
      "{'loss': 6.3289, 'learning_rate': 3.5646568069776265e-06, 'epoch': 8.4}\n",
      "{'loss': 7.0156, 'learning_rate': 3.4888130451270386e-06, 'epoch': 8.43}\n",
      "{'loss': 6.648, 'learning_rate': 3.412969283276451e-06, 'epoch': 8.46}\n",
      "{'loss': 7.1629, 'learning_rate': 3.337125521425863e-06, 'epoch': 8.5}\n"
     ]
    },
    {
     "name": "stderr",
     "output_type": "stream",
     "text": [
      "Saving model checkpoint to bert-base-cased-wikitext2-test-mlm/checkpoint-2500\n"
     ]
    },
    {
     "name": "stdout",
     "output_type": "stream",
     "text": [
      "{'loss': 6.6656, 'learning_rate': 3.2612817595752747e-06, 'epoch': 8.53}\n"
     ]
    },
    {
     "name": "stderr",
     "output_type": "stream",
     "text": [
      "/opt/pytorch/lib/python3.8/site-packages/torch/nn/modules/module.py:1802: UserWarning: Positional args are being deprecated, use kwargs instead. Refer to https://pytorch.org/docs/master/generated/torch.nn.Module.html#torch.nn.Module.state_dict for details.\n",
      "  warnings.warn(\n",
      "-------------------- Device Allocation --------------------\n",
      "Embedding  --> IPU 0\n",
      "Encoder 0  --> IPU 1\n",
      "Encoder 1  --> IPU 1\n",
      "Encoder 2  --> IPU 1\n",
      "Encoder 3  --> IPU 1\n",
      "Encoder 4  --> IPU 2\n",
      "Encoder 5  --> IPU 2\n",
      "Encoder 6  --> IPU 2\n",
      "Encoder 7  --> IPU 2\n",
      "Encoder 8  --> IPU 3\n",
      "Encoder 9  --> IPU 3\n",
      "Encoder 10 --> IPU 3\n",
      "Encoder 11 --> IPU 3\n",
      "Classifier --> IPU 0\n",
      "-----------------------------------------------------------\n",
      "Configuration saved in bert-base-cased-wikitext2-test-mlm/checkpoint-2500/ipu_config.json\n"
     ]
    },
    {
     "name": "stdout",
     "output_type": "stream",
     "text": [
      "{'loss': 6.7668, 'learning_rate': 3.1854379977246876e-06, 'epoch': 8.57}\n",
      "{'loss': 6.9492, 'learning_rate': 3.1095942358740992e-06, 'epoch': 8.6}\n",
      "{'loss': 7.0773, 'learning_rate': 3.0337504740235117e-06, 'epoch': 8.63}\n",
      "{'loss': 6.6926, 'learning_rate': 2.9579067121729238e-06, 'epoch': 8.67}\n",
      "{'loss': 6.7227, 'learning_rate': 2.8820629503223362e-06, 'epoch': 8.7}\n",
      "{'loss': 7.1309, 'learning_rate': 2.8062191884717483e-06, 'epoch': 8.74}\n",
      "{'loss': 6.6289, 'learning_rate': 2.7303754266211608e-06, 'epoch': 8.77}\n",
      "{'loss': 6.918, 'learning_rate': 2.654531664770573e-06, 'epoch': 8.81}\n",
      "{'loss': 6.8152, 'learning_rate': 2.5786879029199853e-06, 'epoch': 8.84}\n",
      "{'loss': 6.6137, 'learning_rate': 2.502844141069397e-06, 'epoch': 8.87}\n",
      "{'loss': 6.993, 'learning_rate': 2.4270003792188094e-06, 'epoch': 8.91}\n",
      "{'loss': 6.8094, 'learning_rate': 2.3511566173682214e-06, 'epoch': 8.94}\n",
      "{'loss': 6.7105, 'learning_rate': 2.275312855517634e-06, 'epoch': 8.98}\n",
      "{'loss': 6.6066, 'learning_rate': 2.199469093667046e-06, 'epoch': 9.01}\n",
      "{'loss': 7.1832, 'learning_rate': 2.123625331816458e-06, 'epoch': 9.04}\n",
      "{'loss': 6.777, 'learning_rate': 2.0477815699658705e-06, 'epoch': 9.08}\n",
      "{'loss': 6.6887, 'learning_rate': 1.9719378081152825e-06, 'epoch': 9.11}\n",
      "{'loss': 6.7648, 'learning_rate': 1.8960940462646948e-06, 'epoch': 9.15}\n",
      "{'loss': 7.3129, 'learning_rate': 1.820250284414107e-06, 'epoch': 9.18}\n",
      "{'loss': 6.3625, 'learning_rate': 1.7444065225635193e-06, 'epoch': 9.22}\n",
      "{'loss': 6.7875, 'learning_rate': 1.6685627607129316e-06, 'epoch': 9.25}\n",
      "{'loss': 7.0348, 'learning_rate': 1.5927189988623438e-06, 'epoch': 9.28}\n",
      "{'loss': 6.657, 'learning_rate': 1.5168752370117559e-06, 'epoch': 9.32}\n",
      "{'loss': 6.5789, 'learning_rate': 1.4410314751611681e-06, 'epoch': 9.35}\n",
      "{'loss': 6.7094, 'learning_rate': 1.3651877133105804e-06, 'epoch': 9.39}\n",
      "{'loss': 6.2195, 'learning_rate': 1.2893439514599926e-06, 'epoch': 9.42}\n",
      "{'loss': 6.9918, 'learning_rate': 1.2135001896094047e-06, 'epoch': 9.45}\n",
      "{'loss': 7.1469, 'learning_rate': 1.137656427758817e-06, 'epoch': 9.49}\n",
      "{'loss': 6.9047, 'learning_rate': 1.061812665908229e-06, 'epoch': 9.52}\n",
      "{'loss': 6.709, 'learning_rate': 9.859689040576413e-07, 'epoch': 9.56}\n",
      "{'loss': 7.0977, 'learning_rate': 9.101251422070535e-07, 'epoch': 9.59}\n",
      "{'loss': 7.2281, 'learning_rate': 8.342813803564658e-07, 'epoch': 9.62}\n",
      "{'loss': 6.7582, 'learning_rate': 7.584376185058779e-07, 'epoch': 9.66}\n",
      "{'loss': 6.6887, 'learning_rate': 6.825938566552902e-07, 'epoch': 9.69}\n",
      "{'loss': 6.6148, 'learning_rate': 6.067500948047023e-07, 'epoch': 9.73}\n",
      "{'loss': 6.9445, 'learning_rate': 5.309063329541145e-07, 'epoch': 9.76}\n",
      "{'loss': 7.0301, 'learning_rate': 4.5506257110352676e-07, 'epoch': 9.8}\n",
      "{'loss': 6.9719, 'learning_rate': 3.7921880925293896e-07, 'epoch': 9.83}\n",
      "{'loss': 6.8816, 'learning_rate': 3.0337504740235117e-07, 'epoch': 9.86}\n",
      "{'loss': 6.6672, 'learning_rate': 2.2753128555176338e-07, 'epoch': 9.9}\n",
      "{'loss': 6.8742, 'learning_rate': 1.5168752370117559e-07, 'epoch': 9.93}\n",
      "{'loss': 6.2687, 'learning_rate': 7.584376185058779e-08, 'epoch': 9.97}\n"
     ]
    },
    {
     "name": "stderr",
     "output_type": "stream",
     "text": [
      "\n",
      "\n",
      "Training completed. Do not forget to share your model on huggingface.co/models =)\n",
      "\n",
      "\n"
     ]
    },
    {
     "name": "stdout",
     "output_type": "stream",
     "text": [
      "{'loss': 6.9695, 'learning_rate': 0.0, 'epoch': 10.0}\n",
      "{'train_runtime': 422.8342, 'train_samples_per_second': 443.484, 'train_steps_per_second': 6.929, 'train_loss': 7.169850549274744, 'epoch': 10.0}\n"
     ]
    },
    {
     "data": {
      "text/plain": [
       "TrainOutput(global_step=2930, training_loss=7.169850549274744, metrics={'train_runtime': 422.8342, 'train_samples_per_second': 443.484, 'train_steps_per_second': 6.929, 'train_loss': 7.169850549274744, 'epoch': 10.0})"
      ]
     },
     "execution_count": 33,
     "metadata": {},
     "output_type": "execute_result"
    }
   ],
   "source": [
    "trainer.train()"
   ]
  },
  {
   "cell_type": "markdown",
   "metadata": {
    "id": "KDBi0reX3l_g"
   },
   "source": [
    "Like before, we can evaluate our model on the validation set. The perplexity is much lower than for the CLM objective because for the MLM objective, we only have to make predictions for the masked tokens (which represent 15% of the total here) while having access to the rest of the tokens. It's thus an easier task for the model."
   ]
  },
  {
   "cell_type": "code",
   "execution_count": 34,
   "metadata": {},
   "outputs": [
    {
     "name": "stdout",
     "output_type": "stream",
     "text": [
      "rrr executing free -h before evaluate\n",
      "              total        used        free      shared  buff/cache   available\n",
      "Mem:          503Gi        44Gi       201Gi        10Mi       257Gi       456Gi\n",
      "Swap:            0B          0B          0B\n"
     ]
    }
   ],
   "source": [
    "print(\"rrr executing free -h before evaluate\")\n",
    "!free -h"
   ]
  },
  {
   "cell_type": "code",
   "execution_count": 35,
   "metadata": {
    "id": "4hSaANqj3l_g",
    "outputId": "eeeb8727-2e27-4aeb-ac71-c98123214661"
   },
   "outputs": [
    {
     "name": "stderr",
     "output_type": "stream",
     "text": [
      "-------------------- Device Allocation --------------------\n",
      "Embedding  --> IPU 0\n",
      "Encoder 0  --> IPU 1\n",
      "Encoder 1  --> IPU 1\n",
      "Encoder 2  --> IPU 1\n",
      "Encoder 3  --> IPU 1\n",
      "Encoder 4  --> IPU 2\n",
      "Encoder 5  --> IPU 2\n",
      "Encoder 6  --> IPU 2\n",
      "Encoder 7  --> IPU 2\n",
      "Encoder 8  --> IPU 3\n",
      "Encoder 9  --> IPU 3\n",
      "Encoder 10 --> IPU 3\n",
      "Encoder 11 --> IPU 3\n",
      "Classifier --> IPU 0\n",
      "-----------------------------------------------------------\n",
      "You're using a BertTokenizerFast tokenizer. Please note that with a fast tokenizer, using the `__call__` method is faster than using a method to encode the text followed by a call to the `pad` method to get a padded encoding.\n",
      "You're using a BertTokenizerFast tokenizer. Please note that with a fast tokenizer, using the `__call__` method is faster than using a method to encode the text followed by a call to the `pad` method to get a padded encoding.\n",
      "You're using a BertTokenizerFast tokenizer. Please note that with a fast tokenizer, using the `__call__` method is faster than using a method to encode the text followed by a call to the `pad` method to get a padded encoding.\n",
      "You're using a BertTokenizerFast tokenizer. Please note that with a fast tokenizer, using the `__call__` method is faster than using a method to encode the text followed by a call to the `pad` method to get a padded encoding.\n",
      "You're using a BertTokenizerFast tokenizer. Please note that with a fast tokenizer, using the `__call__` method is faster than using a method to encode the text followed by a call to the `pad` method to get a padded encoding.\n",
      "You're using a BertTokenizerFast tokenizer. Please note that with a fast tokenizer, using the `__call__` method is faster than using a method to encode the text followed by a call to the `pad` method to get a padded encoding.\n",
      "You're using a BertTokenizerFast tokenizer. Please note that with a fast tokenizer, using the `__call__` method is faster than using a method to encode the text followed by a call to the `pad` method to get a padded encoding.\n",
      "You're using a BertTokenizerFast tokenizer. Please note that with a fast tokenizer, using the `__call__` method is faster than using a method to encode the text followed by a call to the `pad` method to get a padded encoding.\n",
      "You're using a BertTokenizerFast tokenizer. Please note that with a fast tokenizer, using the `__call__` method is faster than using a method to encode the text followed by a call to the `pad` method to get a padded encoding.\n",
      "You're using a BertTokenizerFast tokenizer. Please note that with a fast tokenizer, using the `__call__` method is faster than using a method to encode the text followed by a call to the `pad` method to get a padded encoding.\n",
      "You're using a BertTokenizerFast tokenizer. Please note that with a fast tokenizer, using the `__call__` method is faster than using a method to encode the text followed by a call to the `pad` method to get a padded encoding.\n",
      "You're using a BertTokenizerFast tokenizer. Please note that with a fast tokenizer, using the `__call__` method is faster than using a method to encode the text followed by a call to the `pad` method to get a padded encoding.\n",
      "You're using a BertTokenizerFast tokenizer. Please note that with a fast tokenizer, using the `__call__` method is faster than using a method to encode the text followed by a call to the `pad` method to get a padded encoding.\n",
      "You're using a BertTokenizerFast tokenizer. Please note that with a fast tokenizer, using the `__call__` method is faster than using a method to encode the text followed by a call to the `pad` method to get a padded encoding.\n",
      "You're using a BertTokenizerFast tokenizer. Please note that with a fast tokenizer, using the `__call__` method is faster than using a method to encode the text followed by a call to the `pad` method to get a padded encoding.\n",
      "You're using a BertTokenizerFast tokenizer. Please note that with a fast tokenizer, using the `__call__` method is faster than using a method to encode the text followed by a call to the `pad` method to get a padded encoding.\n",
      "You're using a BertTokenizerFast tokenizer. Please note that with a fast tokenizer, using the `__call__` method is faster than using a method to encode the text followed by a call to the `pad` method to get a padded encoding.\n",
      "You're using a BertTokenizerFast tokenizer. Please note that with a fast tokenizer, using the `__call__` method is faster than using a method to encode the text followed by a call to the `pad` method to get a padded encoding.\n",
      "You're using a BertTokenizerFast tokenizer. Please note that with a fast tokenizer, using the `__call__` method is faster than using a method to encode the text followed by a call to the `pad` method to get a padded encoding.\n",
      "You're using a BertTokenizerFast tokenizer. Please note that with a fast tokenizer, using the `__call__` method is faster than using a method to encode the text followed by a call to the `pad` method to get a padded encoding.\n",
      "You're using a BertTokenizerFast tokenizer. Please note that with a fast tokenizer, using the `__call__` method is faster than using a method to encode the text followed by a call to the `pad` method to get a padded encoding.\n",
      "You're using a BertTokenizerFast tokenizer. Please note that with a fast tokenizer, using the `__call__` method is faster than using a method to encode the text followed by a call to the `pad` method to get a padded encoding.\n",
      "You're using a BertTokenizerFast tokenizer. Please note that with a fast tokenizer, using the `__call__` method is faster than using a method to encode the text followed by a call to the `pad` method to get a padded encoding.\n",
      "You're using a BertTokenizerFast tokenizer. Please note that with a fast tokenizer, using the `__call__` method is faster than using a method to encode the text followed by a call to the `pad` method to get a padded encoding.\n",
      "You're using a BertTokenizerFast tokenizer. Please note that with a fast tokenizer, using the `__call__` method is faster than using a method to encode the text followed by a call to the `pad` method to get a padded encoding.\n",
      "You're using a BertTokenizerFast tokenizer. Please note that with a fast tokenizer, using the `__call__` method is faster than using a method to encode the text followed by a call to the `pad` method to get a padded encoding.\n",
      "You're using a BertTokenizerFast tokenizer. Please note that with a fast tokenizer, using the `__call__` method is faster than using a method to encode the text followed by a call to the `pad` method to get a padded encoding.\n",
      "You're using a BertTokenizerFast tokenizer. Please note that with a fast tokenizer, using the `__call__` method is faster than using a method to encode the text followed by a call to the `pad` method to get a padded encoding.\n",
      "You're using a BertTokenizerFast tokenizer. Please note that with a fast tokenizer, using the `__call__` method is faster than using a method to encode the text followed by a call to the `pad` method to get a padded encoding.\n",
      "You're using a BertTokenizerFast tokenizer. Please note that with a fast tokenizer, using the `__call__` method is faster than using a method to encode the text followed by a call to the `pad` method to get a padded encoding.\n",
      "You're using a BertTokenizerFast tokenizer. Please note that with a fast tokenizer, using the `__call__` method is faster than using a method to encode the text followed by a call to the `pad` method to get a padded encoding.\n",
      "You're using a BertTokenizerFast tokenizer. Please note that with a fast tokenizer, using the `__call__` method is faster than using a method to encode the text followed by a call to the `pad` method to get a padded encoding.\n",
      "You're using a BertTokenizerFast tokenizer. Please note that with a fast tokenizer, using the `__call__` method is faster than using a method to encode the text followed by a call to the `pad` method to get a padded encoding.\n",
      "You're using a BertTokenizerFast tokenizer. Please note that with a fast tokenizer, using the `__call__` method is faster than using a method to encode the text followed by a call to the `pad` method to get a padded encoding.\n",
      "You're using a BertTokenizerFast tokenizer. Please note that with a fast tokenizer, using the `__call__` method is faster than using a method to encode the text followed by a call to the `pad` method to get a padded encoding.\n",
      "You're using a BertTokenizerFast tokenizer. Please note that with a fast tokenizer, using the `__call__` method is faster than using a method to encode the text followed by a call to the `pad` method to get a padded encoding.\n",
      "You're using a BertTokenizerFast tokenizer. Please note that with a fast tokenizer, using the `__call__` method is faster than using a method to encode the text followed by a call to the `pad` method to get a padded encoding.\n",
      "You're using a BertTokenizerFast tokenizer. Please note that with a fast tokenizer, using the `__call__` method is faster than using a method to encode the text followed by a call to the `pad` method to get a padded encoding.\n",
      "You're using a BertTokenizerFast tokenizer. Please note that with a fast tokenizer, using the `__call__` method is faster than using a method to encode the text followed by a call to the `pad` method to get a padded encoding.\n",
      "You're using a BertTokenizerFast tokenizer. Please note that with a fast tokenizer, using the `__call__` method is faster than using a method to encode the text followed by a call to the `pad` method to get a padded encoding.\n",
      "You're using a BertTokenizerFast tokenizer. Please note that with a fast tokenizer, using the `__call__` method is faster than using a method to encode the text followed by a call to the `pad` method to get a padded encoding.\n",
      "You're using a BertTokenizerFast tokenizer. Please note that with a fast tokenizer, using the `__call__` method is faster than using a method to encode the text followed by a call to the `pad` method to get a padded encoding.\n",
      "You're using a BertTokenizerFast tokenizer. Please note that with a fast tokenizer, using the `__call__` method is faster than using a method to encode the text followed by a call to the `pad` method to get a padded encoding.\n",
      "You're using a BertTokenizerFast tokenizer. Please note that with a fast tokenizer, using the `__call__` method is faster than using a method to encode the text followed by a call to the `pad` method to get a padded encoding.\n",
      "You're using a BertTokenizerFast tokenizer. Please note that with a fast tokenizer, using the `__call__` method is faster than using a method to encode the text followed by a call to the `pad` method to get a padded encoding.\n",
      "You're using a BertTokenizerFast tokenizer. Please note that with a fast tokenizer, using the `__call__` method is faster than using a method to encode the text followed by a call to the `pad` method to get a padded encoding.\n",
      "You're using a BertTokenizerFast tokenizer. Please note that with a fast tokenizer, using the `__call__` method is faster than using a method to encode the text followed by a call to the `pad` method to get a padded encoding.\n",
      "You're using a BertTokenizerFast tokenizer. Please note that with a fast tokenizer, using the `__call__` method is faster than using a method to encode the text followed by a call to the `pad` method to get a padded encoding.\n",
      "You're using a BertTokenizerFast tokenizer. Please note that with a fast tokenizer, using the `__call__` method is faster than using a method to encode the text followed by a call to the `pad` method to get a padded encoding.\n",
      "You're using a BertTokenizerFast tokenizer. Please note that with a fast tokenizer, using the `__call__` method is faster than using a method to encode the text followed by a call to the `pad` method to get a padded encoding.\n",
      "You're using a BertTokenizerFast tokenizer. Please note that with a fast tokenizer, using the `__call__` method is faster than using a method to encode the text followed by a call to the `pad` method to get a padded encoding.\n",
      "You're using a BertTokenizerFast tokenizer. Please note that with a fast tokenizer, using the `__call__` method is faster than using a method to encode the text followed by a call to the `pad` method to get a padded encoding.\n",
      "You're using a BertTokenizerFast tokenizer. Please note that with a fast tokenizer, using the `__call__` method is faster than using a method to encode the text followed by a call to the `pad` method to get a padded encoding.\n",
      "You're using a BertTokenizerFast tokenizer. Please note that with a fast tokenizer, using the `__call__` method is faster than using a method to encode the text followed by a call to the `pad` method to get a padded encoding.\n",
      "You're using a BertTokenizerFast tokenizer. Please note that with a fast tokenizer, using the `__call__` method is faster than using a method to encode the text followed by a call to the `pad` method to get a padded encoding.\n",
      "You're using a BertTokenizerFast tokenizer. Please note that with a fast tokenizer, using the `__call__` method is faster than using a method to encode the text followed by a call to the `pad` method to get a padded encoding.\n",
      "You're using a BertTokenizerFast tokenizer. Please note that with a fast tokenizer, using the `__call__` method is faster than using a method to encode the text followed by a call to the `pad` method to get a padded encoding.\n",
      "You're using a BertTokenizerFast tokenizer. Please note that with a fast tokenizer, using the `__call__` method is faster than using a method to encode the text followed by a call to the `pad` method to get a padded encoding.\n",
      "You're using a BertTokenizerFast tokenizer. Please note that with a fast tokenizer, using the `__call__` method is faster than using a method to encode the text followed by a call to the `pad` method to get a padded encoding.\n",
      "You're using a BertTokenizerFast tokenizer. Please note that with a fast tokenizer, using the `__call__` method is faster than using a method to encode the text followed by a call to the `pad` method to get a padded encoding.\n",
      "You're using a BertTokenizerFast tokenizer. Please note that with a fast tokenizer, using the `__call__` method is faster than using a method to encode the text followed by a call to the `pad` method to get a padded encoding.\n",
      "You're using a BertTokenizerFast tokenizer. Please note that with a fast tokenizer, using the `__call__` method is faster than using a method to encode the text followed by a call to the `pad` method to get a padded encoding.\n",
      "You're using a BertTokenizerFast tokenizer. Please note that with a fast tokenizer, using the `__call__` method is faster than using a method to encode the text followed by a call to the `pad` method to get a padded encoding.\n",
      "You're using a BertTokenizerFast tokenizer. Please note that with a fast tokenizer, using the `__call__` method is faster than using a method to encode the text followed by a call to the `pad` method to get a padded encoding.\n",
      "Compiling Model...\n",
      "/opt/pytorch/lib/python3.8/site-packages/torch/nn/modules/module.py:1802: UserWarning: Positional args are being deprecated, use kwargs instead. Refer to https://pytorch.org/docs/master/generated/torch.nn.Module.html#torch.nn.Module.state_dict for details.\n",
      "  warnings.warn(\n",
      "Graph compilation: 100%|██████████| 100/100 [00:02<00:00]\n",
      "Compiled/Loaded model in 12.750322733074427 secs\n",
      "***** Running Evaluation *****\n",
      "  Num examples = 2009\n",
      "  Batch size = 5\n"
     ]
    },
    {
     "data": {
      "application/vnd.jupyter.widget-view+json": {
       "model_id": "5596e08b425249b2ab364382b3610432",
       "version_major": 2,
       "version_minor": 0
      },
      "text/plain": [
       "  0%|          | 0/401 [00:00<?, ?it/s]"
      ]
     },
     "metadata": {},
     "output_type": "display_data"
    },
    {
     "name": "stdout",
     "output_type": "stream",
     "text": [
      "Perplexity: 975.37\n"
     ]
    }
   ],
   "source": [
    "eval_results = trainer.evaluate()\n",
    "print(f\"Perplexity: {math.exp(eval_results['eval_loss']):.2f}\")"
   ]
  },
  {
   "cell_type": "markdown",
   "metadata": {},
   "source": [
    "The perplexity is still quite high since we only trained on a small dataset for a small number of epochs. For a real language model training, you  would need a larger dataset and more epochs."
   ]
  },
  {
   "cell_type": "markdown",
   "metadata": {
    "id": "wY82caEX3l_i"
   },
   "source": [
    "You can now upload the result of the training to the 🤗 Hub:"
   ]
  },
  {
   "cell_type": "code",
   "execution_count": 36,
   "metadata": {},
   "outputs": [],
   "source": [
    "# trainer.push_to_hub()"
   ]
  },
  {
   "cell_type": "markdown",
   "metadata": {},
   "source": [
    "You can also share this model and other users can load it with the identifier `\"your-username/the-name-you-picked\"` so for instance:\n",
    "\n",
    "```python\n",
    "from transformers import AutoModelForMaskedLM\n",
    "\n",
    "model = AutoModelForMaskedLM.from_pretrained(\"sgugger/my-awesome-model\")\n",
    "```"
   ]
  },
  {
   "cell_type": "markdown",
   "metadata": {},
   "source": [
    "## Next steps\n",
    "\n",
    "Check out the full list of [IPU-powered Jupyter Notebooks](https://www.graphcore.ai/ipu-jupyter-notebooks) to get more of a feel for how IPUs perform on other tasks."
   ]
  },
  {
   "cell_type": "code",
   "execution_count": 39,
   "metadata": {
    "tags": []
   },
   "outputs": [
    {
     "name": "stdout",
     "output_type": "stream",
     "text": [
      "Package                  Version\n",
      "------------------------ ------------\n",
      "accelerate               0.21.0\n",
      "agate                    1.7.1\n",
      "agate-dbf                0.2.2\n",
      "agate-excel              0.2.5\n",
      "agate-sql                0.5.9\n",
      "aiofiles                 22.1.0\n",
      "aiohttp                  3.8.5\n",
      "aiosignal                1.3.1\n",
      "aiosqlite                0.19.0\n",
      "anyio                    3.7.0\n",
      "argon2-cffi              21.3.0\n",
      "argon2-cffi-bindings     21.2.0\n",
      "arrow                    1.2.3\n",
      "asttokens                2.2.1\n",
      "async-timeout            4.0.3\n",
      "attrs                    23.1.0\n",
      "awscli                   1.27.165\n",
      "Babel                    2.12.1\n",
      "backcall                 0.2.0\n",
      "beautifulsoup4           4.12.2\n",
      "bleach                   6.0.0\n",
      "boto3                    1.26.165\n",
      "botocore                 1.29.165\n",
      "certifi                  2023.5.7\n",
      "cffi                     1.15.1\n",
      "charset-normalizer       3.1.0\n",
      "cmake                    3.26.3\n",
      "colorama                 0.4.4\n",
      "coloredlogs              15.0.1\n",
      "comm                     0.1.3\n",
      "cppimport                22.8.2\n",
      "csvkit                   1.1.1\n",
      "datasets                 2.14.4\n",
      "dbfread                  2.0.7\n",
      "debugpy                  1.6.7\n",
      "decorator                5.1.1\n",
      "defusedxml               0.7.1\n",
      "diffusers                0.12.1\n",
      "dill                     0.3.7\n",
      "distlib                  0.3.6\n",
      "docutils                 0.16\n",
      "et-xmlfile               1.1.0\n",
      "exceptiongroup           1.1.2\n",
      "executing                1.2.0\n",
      "fastjsonschema           2.17.1\n",
      "filelock                 3.12.2\n",
      "fqdn                     1.5.1\n",
      "frozenlist               1.4.0\n",
      "fsspec                   2023.6.0\n",
      "graphcore-cloud-tools    1.0.0\n",
      "greenlet                 2.0.2\n",
      "huggingface-hub          0.16.4\n",
      "humanfriendly            10.0\n",
      "idna                     3.4\n",
      "importlib-metadata       6.7.0\n",
      "importlib-resources      5.12.0\n",
      "ipykernel                6.24.0\n",
      "ipynbname                2023.2.0.0\n",
      "ipython                  8.12.1\n",
      "ipython-genutils         0.2.0\n",
      "ipywidgets               8.0.6\n",
      "isodate                  0.6.1\n",
      "isoduration              20.11.0\n",
      "jedi                     0.18.2\n",
      "Jinja2                   3.1.2\n",
      "jmespath                 1.0.1\n",
      "json5                    0.9.14\n",
      "jsonpointer              2.4\n",
      "jsonschema               4.17.3\n",
      "jupyter                  1.0.0\n",
      "jupyter_client           8.3.0\n",
      "jupyter-console          6.6.3\n",
      "jupyter_core             5.2.0\n",
      "jupyter-events           0.6.3\n",
      "jupyter_server           2.7.0\n",
      "jupyter_server_fileid    0.9.0\n",
      "jupyter_server_terminals 0.4.4\n",
      "jupyter_server_ydoc      0.8.0\n",
      "jupyter-ydoc             0.2.4\n",
      "jupyterlab               3.6.3\n",
      "jupyterlab-pygments      0.2.2\n",
      "jupyterlab_server        2.23.0\n",
      "jupyterlab-widgets       3.0.7\n",
      "leather                  0.3.4\n",
      "Mako                     1.2.4\n",
      "MarkupSafe               2.1.3\n",
      "matplotlib-inline        0.1.6\n",
      "mistune                  3.0.1\n",
      "mpmath                   1.3.0\n",
      "multidict                6.0.4\n",
      "multiprocess             0.70.15\n",
      "mypy-extensions          1.0.0\n",
      "nbclassic                1.0.0\n",
      "nbclient                 0.8.0\n",
      "nbconvert                7.6.0\n",
      "nbformat                 5.9.0\n",
      "nest-asyncio             1.5.6\n",
      "networkx                 3.1\n",
      "notebook                 6.5.4\n",
      "notebook_shim            0.2.3\n",
      "numpy                    1.21.6\n",
      "olefile                  0.46\n",
      "openpyxl                 3.1.2\n",
      "optimum                  1.6.1\n",
      "optimum-graphcore        0.7.0\n",
      "overrides                7.3.1\n",
      "packaging                23.1\n",
      "pandas                   2.0.3\n",
      "pandocfilters            1.5.0\n",
      "parsedatetime            2.6\n",
      "parso                    0.8.3\n",
      "pexpect                  4.8.0\n",
      "pickleshare              0.7.5\n",
      "Pillow                   10.0.0\n",
      "pip                      21.3.1\n",
      "pkg_resources            0.0.0\n",
      "pkgutil_resolve_name     1.3.10\n",
      "platformdirs             3.8.0\n",
      "poptorch                 3.3.0+113432\n",
      "prometheus-client        0.17.0\n",
      "prompt-toolkit           3.0.38\n",
      "protobuf                 3.20.2\n",
      "psutil                   5.9.5\n",
      "ptyprocess               0.7.0\n",
      "pure-eval                0.2.2\n",
      "pyarrow                  12.0.1\n",
      "pyasn1                   0.5.0\n",
      "pybind11                 2.11.1\n",
      "pycparser                2.21\n",
      "Pygments                 2.15.1\n",
      "pyrsistent               0.19.3\n",
      "python-dateutil          2.8.2\n",
      "python-json-logger       2.0.7\n",
      "python-slugify           8.0.1\n",
      "pytimeparse              1.1.8\n",
      "pytz                     2023.3\n",
      "PyYAML                   5.4.1\n",
      "pyzmq                    25.1.0\n",
      "qtconsole                5.4.3\n",
      "QtPy                     2.3.1\n",
      "regex                    2023.8.8\n",
      "requests                 2.31.0\n",
      "rfc3339-validator        0.1.4\n",
      "rfc3986-validator        0.1.1\n",
      "rsa                      4.7.2\n",
      "s3transfer               0.6.1\n",
      "scipy                    1.10.1\n",
      "Send2Trash               1.8.2\n",
      "sentencepiece            0.1.99\n",
      "setuptools               59.6.0\n",
      "simple-parsing           0.0.19.post1\n",
      "six                      1.16.0\n",
      "sniffio                  1.3.0\n",
      "soupsieve                2.4.1\n",
      "SQLAlchemy               1.4.48\n",
      "stack-data               0.6.2\n",
      "sympy                    1.12\n",
      "terminado                0.17.1\n",
      "text-unidecode           1.3\n",
      "tinycss2                 1.2.1\n",
      "tokenizers               0.13.3\n",
      "tomli                    2.0.1\n",
      "torch                    2.0.1+cpu\n",
      "torchaudio               2.0.2+cpu\n",
      "torchvision              0.15.2+cpu\n",
      "tornado                  6.3.2\n",
      "tqdm                     4.65.0\n",
      "traitlets                5.9.0\n",
      "transformers             4.29.2\n",
      "typeguard                4.1.1\n",
      "typing_extensions        4.7.1\n",
      "typing-inspect           0.9.0\n",
      "tzdata                   2023.3\n",
      "uri-template             1.3.0\n",
      "urllib3                  1.26.16\n",
      "virtualenv               20.23.1\n",
      "wcwidth                  0.2.6\n",
      "webcolors                1.13\n",
      "webencodings             0.5.1\n",
      "websocket-client         1.6.1\n",
      "wheel                    0.40.0\n",
      "widgetsnbextension       4.0.7\n",
      "xlrd                     2.0.1\n",
      "xxhash                   3.3.0\n",
      "y-py                     0.5.9\n",
      "yarl                     1.9.2\n",
      "ypy-websocket            0.8.2\n",
      "zipp                     3.15.0\n"
     ]
    }
   ],
   "source": [
    "!pip list"
   ]
  },
  {
   "cell_type": "code",
   "execution_count": null,
   "metadata": {},
   "outputs": [],
   "source": []
  },
  {
   "cell_type": "code",
   "execution_count": null,
   "metadata": {},
   "outputs": [],
   "source": []
  }
 ],
 "metadata": {
  "colab": {
   "name": "Train a language model",
   "provenance": []
  },
  "kernelspec": {
   "display_name": "Python 3 (ipykernel)",
   "language": "python",
   "name": "python3"
  },
  "language_info": {
   "codemirror_mode": {
    "name": "ipython",
    "version": 3
   },
   "file_extension": ".py",
   "mimetype": "text/x-python",
   "name": "python",
   "nbconvert_exporter": "python",
   "pygments_lexer": "ipython3",
   "version": "3.8.10"
  },
  "vscode": {
   "interpreter": {
    "hash": "31f2aee4e71d21fbe5cf8b01ff0e069b9275f58929596ceb00d14d90e3e16cd6"
   }
  }
 },
 "nbformat": 4,
 "nbformat_minor": 4
}
