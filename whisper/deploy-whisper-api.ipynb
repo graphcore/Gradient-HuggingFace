{
 "cells": [
  {
   "cell_type": "markdown",
   "id": "bf7e602e-9536-44c6-9102-211c555462fd",
   "metadata": {
    "tags": []
   },
   "source": [
    "# Deploy your own Whisper API\n",
    "In [whisper-example.ipynb](whisper-example.ipynb), we ran Whisper from a notebook, but what if we now want to use it in production to host our own API?\\\n",
    "Thanks to [Gradient Deployment](link), we can now do that in a very short time.\\\n",
    "There are many ways to build a containerised app for deployment, we are going to use our pre-built **Simple Serving Framework (SSF)** container image which can deploy our model with the following workflow:\n",
    "\n",
    "1 - Upload model files and its interface and API description to Gradient Models\\\n",
    "2 - In the deployment specs, use the image \"graphcore/simple-serving-framework\" and specify our Gradient Model Id and our token in an environment variable.\\\n",
    "3 - SSF container will automatically download the model at startup, run an inference loop and generate an endpoint following the API description.\n",
    "\n",
    "![diagram](deployment-workflow.png)"
   ]
  },
  {
   "cell_type": "markdown",
   "id": "4542c19d-8cdf-4e72-b10f-1140772bf733",
   "metadata": {
    "jp-MarkdownHeadingCollapsed": true,
    "tags": []
   },
   "source": [
    "### App interface and SSF configuration\n",
    "To interface our model with SSF we provide 2 files (you can find more information how to write these in SSF documentation) :\n",
    "- [deployment/app.py](deployment/app.py): Application interface, it defines how one instance of your model will behave for different events (build, startup, request, shutdown).\n",
    "- [deployment/config.yml](deployment/config.yml): yaml file to describe all the necessary information for SSF to build your API endpoint."
   ]
  },
  {
   "cell_type": "markdown",
   "id": "e8839f13-d787-42f9-bd34-0013536366df",
   "metadata": {},
   "source": [
    "### Uploading our model files to Gradient Model"
   ]
  },
  {
   "cell_type": "code",
   "execution_count": 3,
   "id": "0deee55e-bf9d-42e7-a733-8e8685f370a3",
   "metadata": {},
   "outputs": [
    {
     "name": "stdout",
     "output_type": "stream",
     "text": [
      "\u001b[33mWARNING: Running pip as the 'root' user can result in broken permissions and conflicting behaviour with the system package manager. It is recommended to use a virtual environment instead: https://pip.pypa.io/warnings/venv\u001b[0m\u001b[33m\n",
      "\u001b[0m"
     ]
    }
   ],
   "source": [
    "!pip install -U gradient > /dev/null"
   ]
  },
  {
   "cell_type": "markdown",
   "id": "0cdcd566-c14a-4966-9e69-be4ee5984da6",
   "metadata": {},
   "source": [
    "First, we will need an existing Gradient project Id to specify and a valid deployment name (that isn't used already)"
   ]
  },
  {
   "cell_type": "code",
   "execution_count": 4,
   "id": "8ce275ec-e90b-4834-ba6e-6247770d26f7",
   "metadata": {},
   "outputs": [],
   "source": [
    "projectId = \"pvsqvrxz5fp\"\n",
    "deploymentName = \"whisper\""
   ]
  },
  {
   "cell_type": "markdown",
   "id": "8c82c935-278f-4629-8892-272f739e6050",
   "metadata": {},
   "source": [
    "Let's also log in gradient CLI and store our Gradient API token as a project secret"
   ]
  },
  {
   "cell_type": "code",
   "execution_count": 6,
   "id": "3a42305c-ce1a-4825-90b4-57ce65faf67b",
   "metadata": {},
   "outputs": [
    {
     "name": "stdin",
     "output_type": "stream",
     "text": [
      "Paperspace token? ······························\n"
     ]
    },
    {
     "name": "stdout",
     "output_type": "stream",
     "text": [
      "\u001b[0mSuccessfully added your API Key to /root/.paperspace/config.json. You're ready to go!\u001b[0m\n",
      "\u001b[0m\u001b[0m\u001b[0mSet project secret 'MyApiToken'\u001b[0m\n",
      "\u001b[0m\u001b[0m"
     ]
    }
   ],
   "source": [
    "import getpass\n",
    "psToken = getpass.getpass(prompt='Paperspace token?')\n",
    "!gradient apiKey $psToken\n",
    "# also add the token in our project secret, this will be useful later\n",
    "!gradient secrets set project \\\n",
    "  --id $projectId\\\n",
    "  --name MyApiToken \\\n",
    "  --value $psToken\n",
    "del psToken"
   ]
  },
  {
   "cell_type": "markdown",
   "id": "58cfe9a8-2e96-481b-80c4-37e293f106f1",
   "metadata": {},
   "source": [
    "Now we can use Gradient CLI to upload our model files"
   ]
  },
  {
   "cell_type": "code",
   "execution_count": 7,
   "id": "029fe2d7-1b57-479f-9f5a-99e256c314f8",
   "metadata": {},
   "outputs": [
    {
     "name": "stdout",
     "output_type": "stream",
     "text": [
      "100% (7386 of 7386) |####################| Elapsed Time: 0:00:00 ETA:  00:00:00[0m\u001b[0m\u001b[0m\u001b[0m\n",
      "\u001b[0m\u001b[K\u001b[0m\u001b[?25h\u001b[0m\u001b[0mModel uploaded with ID: mos9nektd2stq5o\u001b[0me:  0:00:00\u001b[0m\u001b[0m\n",
      "\u001b[0m\u001b[K\u001b[0m\u001b[?25h\u001b[0m\u001b[0m"
     ]
    }
   ],
   "source": [
    "!gradient models upload --name \"Whisper\" --modelType \"custom\" --projectId $projectId \"./deployment\"\n",
    "modelId=!(gradient models list|grep Whisper|awk '{print $4}')"
   ]
  },
  {
   "cell_type": "markdown",
   "id": "b0c715b9-87aa-43ec-becb-41344dbb7b67",
   "metadata": {},
   "source": [
    "### Write a Gradient Deployment spec file\n",
    "Following [Gradient documentation](https://docs.paperspace.com/gradient/deployments/deployment-spec), we specify the public image `ssf:latest`\\\n",
    "To link our model, we pass it through the special env variable `SSF_OPTIONS`, it contains the command to run SSF.\n",
    "\n",
    "- `--config gradient-model:<model-id>|<ssf-config-path>` : used to download our model from Gradient and find our SSF config\n",
    "- `clean build run` : Indicate to ssf to execute 3 steps : repo initialisation (clean), app's build step and finally run the container.\n",
    "- `--deployment-api-key API_KEY` indicates that our token is stored in the variable API_KEY.\\\n",
    "Since SSF container will need to download our model from Gradient we need to pass our token secretely via `API_KEY` variable using Gradient `secret` set earlier : `secret:MyApiToken`"
   ]
  },
  {
   "cell_type": "code",
   "execution_count": 8,
   "id": "9e64660f-c941-4b7b-8bfe-44bc02e35b23",
   "metadata": {},
   "outputs": [],
   "source": [
    "spec = f\"\"\"enabled: true\n",
    "image: gc0alexandrec/deployment-test:latest\n",
    "containerRegistry: alexc-personal\n",
    "port: 8100\n",
    "env:\n",
    "    - name: SSF_OPTIONS\n",
    "      value: '--config gradient-model:{modelId[0]}|config.yml --deployment-api-key API_TOKEN clean build run'\n",
    "    - name: API_TOKEN\n",
    "      value: secret:MyApiToken\n",
    "resources:\n",
    "  replicas: 1\n",
    "  instanceType: IPU-POD4\n",
    "\n",
    "\"\"\"\n",
    "\n",
    "specs_file = open(\"spec.yml\", \"w+\")\n",
    "specs_file.write(spec)\n",
    "specs_file.close()"
   ]
  },
  {
   "cell_type": "markdown",
   "id": "fbac2932-22a9-4faf-b3a8-33a8008edf9e",
   "metadata": {},
   "source": [
    "### Deploy!\n",
    "You are now ready to lauch the deployment using the spec file!"
   ]
  },
  {
   "cell_type": "code",
   "execution_count": 9,
   "id": "cf7383ed-2ff7-40cc-b034-ad005a698d79",
   "metadata": {},
   "outputs": [
    {
     "name": "stdout",
     "output_type": "stream",
     "text": [
      "Created deployment: 5309b306-b0fe-4447-b647-3383c65c9092\u001b[0m\n",
      "\u001b[0m\u001b[0m"
     ]
    }
   ],
   "source": [
    "!gradient deployments create --name $deploymentName --projectId $projectId --spec spec.yml --clusterId clehbtvty"
   ]
  },
  {
   "cell_type": "markdown",
   "id": "f5863a58-8424-424c-8985-6c3662525154",
   "metadata": {},
   "source": [
    "#### That's it! You can now check that your deployment appears on Paperspace UI\n"
   ]
  },
  {
   "cell_type": "code",
   "execution_count": 10,
   "id": "b913d67c-5154-491c-b052-6c2d4f8e75cb",
   "metadata": {},
   "outputs": [],
   "source": [
    "%%capture deploymentId\n",
    "!(gradient deployments list|grep whisper|awk '{print $4}'|tr -d '\\n')"
   ]
  },
  {
   "cell_type": "code",
   "execution_count": 11,
   "id": "22e1a657-c730-42d2-b2cf-9f0ce3477625",
   "metadata": {},
   "outputs": [
    {
     "name": "stdout",
     "output_type": "stream",
     "text": [
      "Deployment main page:  https://console.paperspace.com/graphcorepaperspace/projects/pvsqvrxz5fp/gradient-deployments/5309b306-b0fe-4447-b647-3383c65c9092/overview\n",
      "Endpoint docs:  https://d5309b306b0fe4447b6473383c65c9092.clehbtvty.paperspacegradient.com/docs\n"
     ]
    }
   ],
   "source": [
    "project_url = \"https://console.paperspace.com/graphcorepaperspace/projects/\" \\\n",
    "    + str(projectId) + \"/gradient-deployments/\" + str(deploymentId) + \"/overview\"\n",
    "!(gradient deployments get --id $deploymentId)> deployment_info.json\n",
    "endpoint=!(jq .deploymentSpecs[0].endpointUrl deployment_info.json | tr -d '\"')\n",
    "print(\"Deployment main page: \", project_url)\n",
    "print(\"Endpoint docs: \",\"https://\"+ endpoint[0]+\"/docs\")"
   ]
  },
  {
   "cell_type": "markdown",
   "id": "7bd17fdf-eb44-4997-8cc2-f7b6a785ab5e",
   "metadata": {},
   "source": [
    "The deployment may take some time to startup completely, \n",
    "let's ping our server readiness/ endpoint to wait until it'sready to take requests."
   ]
  },
  {
   "cell_type": "code",
   "execution_count": 16,
   "id": "5cade180-ad81-404d-9a56-05ec0ca0afb5",
   "metadata": {},
   "outputs": [
    {
     "name": "stdout",
     "output_type": "stream",
     "text": [
      "fetching\n",
      "fetching\n",
      "fetching\n",
      "fetching\n",
      "fetching\n",
      "fetching\n",
      "fetching\n",
      "fetching\n",
      "fetching\n",
      "fetching\n",
      "fetching\n",
      "fetching\n",
      "fetching\n",
      "fetching\n",
      "fetching\n",
      "fetching\n",
      "fetching\n",
      "fetching\n",
      "fetching\n",
      "fetching\n",
      "OK\n"
     ]
    }
   ],
   "source": [
    "import requests\n",
    "import time\n",
    "url = \"https://\"+ endpoint[0]+\"/\"\n",
    "code = 0\n",
    "while code != 200:\n",
    "    response = requests.get(url)\n",
    "    code = response.status_code\n",
    "    print(\"fetching...\")\n",
    "    time.sleep(10)\n",
    "print(\"Server ready\")"
   ]
  },
  {
   "cell_type": "markdown",
   "id": "44fa6441-c177-48a5-96ed-201b714857af",
   "metadata": {},
   "source": [
    "#### If you are here, the server should now be ready, let's sent a request to our API:\n",
    "Let's test it with an example file."
   ]
  },
  {
   "cell_type": "code",
   "execution_count": 18,
   "id": "925c06c2-6685-4e1a-96ce-ce9ecbf3a2d5",
   "metadata": {},
   "outputs": [
    {
     "name": "stdout",
     "output_type": "stream",
     "text": [
      "{'result': \" But what if somebody decides to break it? Be careful that you keep adequate coverage, but look for places to save money. Maybe it's taking longer to get things squared away than the bankers expected. Hiring the wife for one's company may win her tax-aided retirement income. The boost is helpful, but inadequate. New self-deceiving rags are hurriedly tossed on the two naked bones. What a discussion can ensue when the title of this type of song is in question. There is no dying or waxing or gassing needed.\"}\n"
     ]
    }
   ],
   "source": [
    "import requests\n",
    "import time\n",
    "url = \"https://\"+ endpoint[0]+\"/v1/whisper_transcription\"\n",
    "audio_file = open(\"example_audio.wav\", \"rb\")\n",
    "response = requests.post(url, files={\"audio_file\": audio_file})\n",
    "print(response.json())"
   ]
  },
  {
   "cell_type": "markdown",
   "id": "e31339c5-ac88-4e49-8f81-32ddc8a89174",
   "metadata": {},
   "source": [
    "**Notice that our response may be shorter than the full audio due to the maximum number of token configured in our model.**"
   ]
  },
  {
   "cell_type": "markdown",
   "id": "347b8076-ef29-428d-ad99-b84aa6978a37",
   "metadata": {},
   "source": [
    "We can now decide to shutdown our server to free the resources"
   ]
  },
  {
   "cell_type": "code",
   "execution_count": 19,
   "id": "92addd23-da48-4e66-85d0-3eebf3addef9",
   "metadata": {},
   "outputs": [
    {
     "name": "stdout",
     "output_type": "stream",
     "text": [
      "Deleted deployment: 5309b306-b0fe-4447-b647-3383c65c9092\u001b[0m\n",
      "\u001b[0m\u001b[0m"
     ]
    }
   ],
   "source": [
    "!gradient deployments delete --id $deploymentId"
   ]
  }
 ],
 "metadata": {
  "kernelspec": {
   "display_name": "Python 3",
   "language": "python",
   "name": "python3"
  },
  "language_info": {
   "codemirror_mode": {
    "name": "ipython",
    "version": 3
   },
   "file_extension": ".py",
   "mimetype": "text/x-python",
   "name": "python",
   "nbconvert_exporter": "python",
   "pygments_lexer": "ipython3",
   "version": "3.8.10"
  }
 },
 "nbformat": 4,
 "nbformat_minor": 5
}
