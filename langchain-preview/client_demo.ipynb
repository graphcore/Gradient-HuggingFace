{
 "cells": [
  {
   "cell_type": "code",
   "execution_count": null,
   "id": "7dc44ee0",
   "metadata": {},
   "outputs": [],
   "source": [
    "!pip install --upgrade 'manifest-ml[api]'\n",
    "!pip install --upgrade langchain"
   ]
  },
  {
   "cell_type": "code",
   "execution_count": null,
   "id": "89dbb53b",
   "metadata": {},
   "outputs": [],
   "source": [
    "from langchain import PromptTemplate, OpenAI, LLMChain\n",
    "from langchain.llms.manifest import ManifestWrapper\n",
    "from manifest import Manifest"
   ]
  },
  {
   "cell_type": "code",
   "execution_count": null,
   "id": "54633e70",
   "metadata": {},
   "outputs": [],
   "source": [
    "dolly_llm = ManifestWrapper(\n",
    "    client=Manifest(\n",
    "        client_name=\"huggingface\",\n",
    "        client_connection=\"https://a57c-38-83-162-251.ngrok-free.app\",\n",
    "    ),\n",
    "    llm_kwargs={\"client_timeout\": 500, \"max_tokens\": 2048}\n",
    ")\n"
   ]
  },
  {
   "cell_type": "code",
   "execution_count": null,
   "id": "2ae95975",
   "metadata": {},
   "outputs": [],
   "source": [
    "prompt_template = \"What is a good name for a company that makes {product}?\"\n",
    "\n",
    "llm_chain = LLMChain(\n",
    "    llm=dolly_llm,\n",
    "    prompt=PromptTemplate.from_template(prompt_template)\n",
    ")\n",
    "llm_chain({\"product\": \"colorful socks\"})\n"
   ]
  },
  {
   "cell_type": "code",
   "execution_count": null,
   "id": "37ec0f59",
   "metadata": {},
   "outputs": [],
   "source": []
  }
 ],
 "metadata": {
  "kernelspec": {
   "display_name": "Python 3 (ipykernel)",
   "language": "python",
   "name": "python3"
  },
  "language_info": {
   "codemirror_mode": {
    "name": "ipython",
    "version": 3
   },
   "file_extension": ".py",
   "mimetype": "text/x-python",
   "name": "python",
   "nbconvert_exporter": "python",
   "pygments_lexer": "ipython3",
   "version": "3.10.8"
  }
 },
 "nbformat": 4,
 "nbformat_minor": 5
}
